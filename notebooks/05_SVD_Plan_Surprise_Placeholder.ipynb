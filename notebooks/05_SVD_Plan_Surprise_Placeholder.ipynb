{
 "cells": [
  {
   "cell_type": "markdown",
   "id": "e9604a36",
   "metadata": {},
   "source": [
    "##### ‼ To work in a `SVD` and `surprise` model in the next integration."
   ]
  }
 ],
 "metadata": {
  "language_info": {
   "name": "python"
  }
 },
 "nbformat": 4,
 "nbformat_minor": 5
}
