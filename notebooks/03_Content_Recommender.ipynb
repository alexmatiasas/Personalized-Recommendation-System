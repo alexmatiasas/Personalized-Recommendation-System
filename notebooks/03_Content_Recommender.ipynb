{
 "cells": [
  {
   "cell_type": "markdown",
   "id": "791d241f",
   "metadata": {},
   "source": [
    "# 🧠 Content-Based Recommendation System - TF-IDF Version\n",
    "\n",
    "## ⚙️ 1. Setup"
   ]
  },
  {
   "cell_type": "markdown",
   "id": "db3e0ced",
   "metadata": {},
   "source": []
  },
  {
   "cell_type": "code",
   "execution_count": 1,
   "id": "d7d37dd1",
   "metadata": {},
   "outputs": [],
   "source": [
    "import pandas as pd\n",
    "import numpy as np\n",
    "from sklearn.feature_extraction.text import TfidfVectorizer\n",
    "from sklearn.metrics.pairwise import cosine_similarity"
   ]
  },
  {
   "cell_type": "markdown",
   "id": "eb063e5d",
   "metadata": {},
   "source": [
    "## 2. Load Data"
   ]
  },
  {
   "cell_type": "code",
   "execution_count": 2,
   "id": "9ae9c80a",
   "metadata": {},
   "outputs": [
    {
     "data": {
      "application/vnd.microsoft.datawrangler.viewer.v0+json": {
       "columns": [
        {
         "name": "index",
         "rawType": "int64",
         "type": "integer"
        },
        {
         "name": "movieId",
         "rawType": "int64",
         "type": "integer"
        },
        {
         "name": "genres",
         "rawType": "object",
         "type": "string"
        },
        {
         "name": "overview",
         "rawType": "object",
         "type": "string"
        },
        {
         "name": "popularity",
         "rawType": "float64",
         "type": "float"
        },
        {
         "name": "poster_path",
         "rawType": "object",
         "type": "string"
        },
        {
         "name": "release_date",
         "rawType": "object",
         "type": "string"
        },
        {
         "name": "title",
         "rawType": "object",
         "type": "string"
        },
        {
         "name": "tmdb_id",
         "rawType": "int64",
         "type": "integer"
        },
        {
         "name": "vote_average",
         "rawType": "float64",
         "type": "float"
        },
        {
         "name": "release_year",
         "rawType": "float64",
         "type": "float"
        },
        {
         "name": "n_genres",
         "rawType": "int64",
         "type": "integer"
        },
        {
         "name": "overview_length",
         "rawType": "int64",
         "type": "integer"
        },
        {
         "name": "release_decade",
         "rawType": "float64",
         "type": "float"
        }
       ],
       "ref": "3bbd9722-65b6-4133-9797-334efd14188e",
       "rows": [
        [
         "0",
         "6",
         "['Action', 'Crime', 'Thriller']",
         "The Public Enemy battle The Gangstas in a Steel Cage Match. Tommy Dreamer & The Pitbulls battle Raven & The Dudleys in Six-Man Tag Team action. ECW Champion The Sandman defends his title against Axl Rotten. Also featuring Stevie Richards, Luna Vachon, Dean Malenko, Eddie Guerrero and more.",
         "0.2205",
         "/4miPIzrKBaSznoTBv1bS0sZwoMG.jpg",
         "1995-07-15",
         "Heat (1995)",
         "706330",
         "0.0",
         "1995.0",
         "3",
         "290",
         "1990.0"
        ],
        [
         "1",
         "34",
         "[\"Children's\", 'Comedy', 'Drama']",
         "Babe is a little pig who doesn't quite know his place in the world. With a bunch of odd friends, like Ferdinand the duck who thinks he is a rooster and Fly the dog he calls mum, Babe realises that he has the makings to become the greatest sheep pig of all time, and Farmer Hoggett knows it. With the help of the sheep dogs, Babe learns that a pig can be anything that he wants to be.",
         "4.5272",
         "/zKuQMtnbVTz9DsOnOJmlW71v4qH.jpg",
         "1995-07-18",
         "Babe (1995)",
         "9598",
         "6.244",
         "1995.0",
         "3",
         "383",
         "1990.0"
        ],
        [
         "2",
         "50",
         "['Crime', 'Thriller']",
         "Held in an L.A. interrogation room, Verbal Kint attempts to convince the feds that a mythic crime lord, Keyser Soze, not only exists, but was also responsible for drawing him and his four partners into a multi-million dollar heist that ended with an explosion in San Pedro harbor – leaving few survivors. Verbal lures his interrogators with an incredible story of the crime lord's almost supernatural prowess.",
         "7.9936",
         "/rWbsxdwF9qQzpTPCLmDfVnVqTK1.jpg",
         "1995-07-19",
         "Usual Suspects, The (1995)",
         "629",
         "8.175",
         "1995.0",
         "2",
         "409",
         "1990.0"
        ],
        [
         "3",
         "1",
         "['Animation', \"Children's\", 'Comedy']",
         "Led by Woody, Andy's toys live happily in his room until Andy's birthday brings Buzz Lightyear onto the scene. Afraid of losing his place in Andy's heart, Woody plots against Buzz. But when circumstances separate Buzz and Woody from their owner, the duo eventually learns to put aside their differences.",
         "21.8546",
         "/uXDfjJbdP4ijW5hWSBrPrlKpxab.jpg",
         "1995-11-22",
         "Toy Story (1995)",
         "862",
         "7.968",
         "1995.0",
         "3",
         "303",
         "1990.0"
        ],
        [
         "4",
         "2",
         "['Adventure', \"Children's\", 'Fantasy']",
         "When siblings Judy and Peter discover an enchanted board game that opens the door to a magical world, they unwittingly invite Alan -- an adult who's been trapped inside the game for 26 years -- into their living room. Alan's only hope for freedom is to finish the game, which proves risky as all three find themselves running from giant rhinoceroses, evil monkeys and other terrifying creatures.",
         "3.1183",
         "/vgpXmVaVyUL7GGiDeiK1mKEKzcX.jpg",
         "1995-12-15",
         "Jumanji (1995)",
         "8844",
         "7.237",
         "1995.0",
         "3",
         "395",
         "1990.0"
        ]
       ],
       "shape": {
        "columns": 13,
        "rows": 5
       }
      },
      "text/html": [
       "<div>\n",
       "<style scoped>\n",
       "    .dataframe tbody tr th:only-of-type {\n",
       "        vertical-align: middle;\n",
       "    }\n",
       "\n",
       "    .dataframe tbody tr th {\n",
       "        vertical-align: top;\n",
       "    }\n",
       "\n",
       "    .dataframe thead th {\n",
       "        text-align: right;\n",
       "    }\n",
       "</style>\n",
       "<table border=\"1\" class=\"dataframe\">\n",
       "  <thead>\n",
       "    <tr style=\"text-align: right;\">\n",
       "      <th></th>\n",
       "      <th>movieId</th>\n",
       "      <th>genres</th>\n",
       "      <th>overview</th>\n",
       "      <th>popularity</th>\n",
       "      <th>poster_path</th>\n",
       "      <th>release_date</th>\n",
       "      <th>title</th>\n",
       "      <th>tmdb_id</th>\n",
       "      <th>vote_average</th>\n",
       "      <th>release_year</th>\n",
       "      <th>n_genres</th>\n",
       "      <th>overview_length</th>\n",
       "      <th>release_decade</th>\n",
       "    </tr>\n",
       "  </thead>\n",
       "  <tbody>\n",
       "    <tr>\n",
       "      <th>0</th>\n",
       "      <td>6</td>\n",
       "      <td>['Action', 'Crime', 'Thriller']</td>\n",
       "      <td>The Public Enemy battle The Gangstas in a Stee...</td>\n",
       "      <td>0.2205</td>\n",
       "      <td>/4miPIzrKBaSznoTBv1bS0sZwoMG.jpg</td>\n",
       "      <td>1995-07-15</td>\n",
       "      <td>Heat (1995)</td>\n",
       "      <td>706330</td>\n",
       "      <td>0.000</td>\n",
       "      <td>1995.0</td>\n",
       "      <td>3</td>\n",
       "      <td>290</td>\n",
       "      <td>1990.0</td>\n",
       "    </tr>\n",
       "    <tr>\n",
       "      <th>1</th>\n",
       "      <td>34</td>\n",
       "      <td>[\"Children's\", 'Comedy', 'Drama']</td>\n",
       "      <td>Babe is a little pig who doesn't quite know hi...</td>\n",
       "      <td>4.5272</td>\n",
       "      <td>/zKuQMtnbVTz9DsOnOJmlW71v4qH.jpg</td>\n",
       "      <td>1995-07-18</td>\n",
       "      <td>Babe (1995)</td>\n",
       "      <td>9598</td>\n",
       "      <td>6.244</td>\n",
       "      <td>1995.0</td>\n",
       "      <td>3</td>\n",
       "      <td>383</td>\n",
       "      <td>1990.0</td>\n",
       "    </tr>\n",
       "    <tr>\n",
       "      <th>2</th>\n",
       "      <td>50</td>\n",
       "      <td>['Crime', 'Thriller']</td>\n",
       "      <td>Held in an L.A. interrogation room, Verbal Kin...</td>\n",
       "      <td>7.9936</td>\n",
       "      <td>/rWbsxdwF9qQzpTPCLmDfVnVqTK1.jpg</td>\n",
       "      <td>1995-07-19</td>\n",
       "      <td>Usual Suspects, The (1995)</td>\n",
       "      <td>629</td>\n",
       "      <td>8.175</td>\n",
       "      <td>1995.0</td>\n",
       "      <td>2</td>\n",
       "      <td>409</td>\n",
       "      <td>1990.0</td>\n",
       "    </tr>\n",
       "    <tr>\n",
       "      <th>3</th>\n",
       "      <td>1</td>\n",
       "      <td>['Animation', \"Children's\", 'Comedy']</td>\n",
       "      <td>Led by Woody, Andy's toys live happily in his ...</td>\n",
       "      <td>21.8546</td>\n",
       "      <td>/uXDfjJbdP4ijW5hWSBrPrlKpxab.jpg</td>\n",
       "      <td>1995-11-22</td>\n",
       "      <td>Toy Story (1995)</td>\n",
       "      <td>862</td>\n",
       "      <td>7.968</td>\n",
       "      <td>1995.0</td>\n",
       "      <td>3</td>\n",
       "      <td>303</td>\n",
       "      <td>1990.0</td>\n",
       "    </tr>\n",
       "    <tr>\n",
       "      <th>4</th>\n",
       "      <td>2</td>\n",
       "      <td>['Adventure', \"Children's\", 'Fantasy']</td>\n",
       "      <td>When siblings Judy and Peter discover an encha...</td>\n",
       "      <td>3.1183</td>\n",
       "      <td>/vgpXmVaVyUL7GGiDeiK1mKEKzcX.jpg</td>\n",
       "      <td>1995-12-15</td>\n",
       "      <td>Jumanji (1995)</td>\n",
       "      <td>8844</td>\n",
       "      <td>7.237</td>\n",
       "      <td>1995.0</td>\n",
       "      <td>3</td>\n",
       "      <td>395</td>\n",
       "      <td>1990.0</td>\n",
       "    </tr>\n",
       "  </tbody>\n",
       "</table>\n",
       "</div>"
      ],
      "text/plain": [
       "   movieId                                  genres  \\\n",
       "0        6         ['Action', 'Crime', 'Thriller']   \n",
       "1       34       [\"Children's\", 'Comedy', 'Drama']   \n",
       "2       50                   ['Crime', 'Thriller']   \n",
       "3        1   ['Animation', \"Children's\", 'Comedy']   \n",
       "4        2  ['Adventure', \"Children's\", 'Fantasy']   \n",
       "\n",
       "                                            overview  popularity  \\\n",
       "0  The Public Enemy battle The Gangstas in a Stee...      0.2205   \n",
       "1  Babe is a little pig who doesn't quite know hi...      4.5272   \n",
       "2  Held in an L.A. interrogation room, Verbal Kin...      7.9936   \n",
       "3  Led by Woody, Andy's toys live happily in his ...     21.8546   \n",
       "4  When siblings Judy and Peter discover an encha...      3.1183   \n",
       "\n",
       "                        poster_path release_date                       title  \\\n",
       "0  /4miPIzrKBaSznoTBv1bS0sZwoMG.jpg   1995-07-15                 Heat (1995)   \n",
       "1  /zKuQMtnbVTz9DsOnOJmlW71v4qH.jpg   1995-07-18                 Babe (1995)   \n",
       "2  /rWbsxdwF9qQzpTPCLmDfVnVqTK1.jpg   1995-07-19  Usual Suspects, The (1995)   \n",
       "3  /uXDfjJbdP4ijW5hWSBrPrlKpxab.jpg   1995-11-22            Toy Story (1995)   \n",
       "4  /vgpXmVaVyUL7GGiDeiK1mKEKzcX.jpg   1995-12-15              Jumanji (1995)   \n",
       "\n",
       "   tmdb_id  vote_average  release_year  n_genres  overview_length  \\\n",
       "0   706330         0.000        1995.0         3              290   \n",
       "1     9598         6.244        1995.0         3              383   \n",
       "2      629         8.175        1995.0         2              409   \n",
       "3      862         7.968        1995.0         3              303   \n",
       "4     8844         7.237        1995.0         3              395   \n",
       "\n",
       "   release_decade  \n",
       "0          1990.0  \n",
       "1          1990.0  \n",
       "2          1990.0  \n",
       "3          1990.0  \n",
       "4          1990.0  "
      ]
     },
     "execution_count": 2,
     "metadata": {},
     "output_type": "execute_result"
    }
   ],
   "source": [
    "df = pd.read_csv(\"../data/processed/enriched_movies_clean.csv\")\n",
    "df.head()"
   ]
  },
  {
   "cell_type": "markdown",
   "id": "ca845546",
   "metadata": {},
   "source": [
    "## 3. Preprocess Overview Text"
   ]
  },
  {
   "cell_type": "code",
   "execution_count": 3,
   "id": "31b184c6",
   "metadata": {},
   "outputs": [],
   "source": [
    "df[\"overview_clean\"] = df[\"overview\"].fillna(\"\").str.lower()"
   ]
  },
  {
   "cell_type": "markdown",
   "id": "730f1490",
   "metadata": {},
   "source": [
    "## 4. TF-IDF Vectorization"
   ]
  },
  {
   "cell_type": "code",
   "execution_count": 4,
   "id": "a45b1804",
   "metadata": {},
   "outputs": [],
   "source": [
    "vectorizer = TfidfVectorizer(stop_words=\"english\")\n",
    "tfidf_matrix = vectorizer.fit_transform(df[\"overview_clean\"]) "
   ]
  },
  {
   "cell_type": "markdown",
   "id": "80c38eda",
   "metadata": {},
   "source": [
    "## 5. Cosine Similarity"
   ]
  },
  {
   "cell_type": "code",
   "execution_count": 5,
   "id": "825e08b2",
   "metadata": {},
   "outputs": [],
   "source": [
    "cosine_sim = cosine_similarity(tfidf_matrix, tfidf_matrix)"
   ]
  },
  {
   "cell_type": "code",
   "execution_count": null,
   "id": "535edf25",
   "metadata": {},
   "outputs": [],
   "source": []
  },
  {
   "cell_type": "markdown",
   "id": "07fbcca6",
   "metadata": {},
   "source": [
    "## 6. Recommend Function"
   ]
  },
  {
   "cell_type": "code",
   "execution_count": 6,
   "id": "72683b7c",
   "metadata": {},
   "outputs": [],
   "source": [
    "def get_recommendations(title, top_n=5):\n",
    "    idx = df[df['title'] == title].index[0]\n",
    "    sim_scores = list(enumerate(cosine_sim[idx]))\n",
    "    sim_scores = sorted(sim_scores, key=lambda x: x[1], reverse=True)[1:top_n+1]\n",
    "    movie_indices = [i[0] for i in sim_scores]\n",
    "    return df.iloc[movie_indices][\"title\"].tolist()"
   ]
  },
  {
   "cell_type": "markdown",
   "id": "dad9af2e",
   "metadata": {},
   "source": []
  },
  {
   "cell_type": "code",
   "execution_count": 7,
   "id": "b35ce70d",
   "metadata": {},
   "outputs": [
    {
     "data": {
      "text/plain": [
       "['Toy Story 2 (1999)',\n",
       " 'Rebel Without a Cause (1955)',\n",
       " 'Condorman (1981)',\n",
       " 'Malice (1993)',\n",
       " 'Man on the Moon (1999)']"
      ]
     },
     "execution_count": 7,
     "metadata": {},
     "output_type": "execute_result"
    }
   ],
   "source": [
    "get_recommendations(\"Toy Story (1995)\")"
   ]
  },
  {
   "cell_type": "code",
   "execution_count": null,
   "id": "bc2aede3",
   "metadata": {},
   "outputs": [],
   "source": []
  }
 ],
 "metadata": {
  "kernelspec": {
   "display_name": "Python (Recommendation)",
   "language": "python",
   "name": "personalized-recommender"
  },
  "language_info": {
   "codemirror_mode": {
    "name": "ipython",
    "version": 3
   },
   "file_extension": ".py",
   "mimetype": "text/x-python",
   "name": "python",
   "nbconvert_exporter": "python",
   "pygments_lexer": "ipython3",
   "version": "3.12.7"
  }
 },
 "nbformat": 4,
 "nbformat_minor": 5
}
