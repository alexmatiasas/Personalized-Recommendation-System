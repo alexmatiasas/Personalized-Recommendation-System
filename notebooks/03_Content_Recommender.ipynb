{
 "cells": [
  {
   "cell_type": "markdown",
   "id": "791d241f",
   "metadata": {},
   "source": [
    "# 🧠 Content-Based Recommendation System - TF-IDF Version\n",
    "\n",
    "In this notebook, we build a content-based recommendation system using movie descriptions (overviews). We apply **Term Frequency-Inverse Document Frequency (TF-IDF) vectorization** to transform text into numerical vectors, and use cosine similarity to measure content closeness.\n",
    "\n",
    "> ⚙️ This notebook demonstrates how to use the `ContentBasedRecommender` class \n",
    "from the `src/` module to generate recommendations based on movie overviews \n",
    "using TF-IDF and cosine similarity.\n",
    "\n",
    "The class handles preprocessing, vectorization, and similarity calculation internally.\n",
    "\n",
    "## ⚙️ 1. Setup\n",
    "\n",
    "We import the required libraries:\n",
    "\n",
    "- `pandas`, `numpy` for data handling\n",
    "- `TfidfVectorizer` for converting text to vector form\n",
    "- `cosine_similarity` to compute distances between vectors"
   ]
  },
  {
   "cell_type": "code",
   "execution_count": 1,
   "id": "d7d37dd1",
   "metadata": {},
   "outputs": [],
   "source": [
    "import sys\n",
    "\n",
    "sys.path.append(\"../\")\n",
    "\n",
    "import pandas as pd\n",
    "import numpy as np\n",
    "from sklearn.feature_extraction.text import TfidfVectorizer\n",
    "from sklearn.metrics.pairwise import cosine_similarity\n",
    "\n",
    "# This is a personalized package for content-based recommendation systems.\n",
    "# It includes a recommender class that uses TF-IDF vectorization and cosine similarity\n",
    "# to recommend items based on their content features.\n",
    "from src.content_based import ContentBasedRecommender"
   ]
  },
  {
   "cell_type": "markdown",
   "id": "eb063e5d",
   "metadata": {},
   "source": [
    "## 2. Load Data\n",
    "\n",
    "We load the preprocessed dataset enriched_movies_clean.csv, which includes:\n",
    "\n",
    "- Cleaned overview text\n",
    "- Metadata such as release_year, n_genres, overview_length, etc."
   ]
  },
  {
   "cell_type": "code",
   "execution_count": 2,
   "id": "9ae9c80a",
   "metadata": {},
   "outputs": [
    {
     "data": {
      "application/vnd.microsoft.datawrangler.viewer.v0+json": {
       "columns": [
        {
         "name": "index",
         "rawType": "int64",
         "type": "integer"
        },
        {
         "name": "movieId",
         "rawType": "int64",
         "type": "integer"
        },
        {
         "name": "genres",
         "rawType": "object",
         "type": "string"
        },
        {
         "name": "overview",
         "rawType": "object",
         "type": "string"
        },
        {
         "name": "popularity",
         "rawType": "float64",
         "type": "float"
        },
        {
         "name": "poster_path",
         "rawType": "object",
         "type": "string"
        },
        {
         "name": "release_date",
         "rawType": "object",
         "type": "string"
        },
        {
         "name": "title",
         "rawType": "object",
         "type": "string"
        },
        {
         "name": "tmdb_id",
         "rawType": "int64",
         "type": "integer"
        },
        {
         "name": "vote_average",
         "rawType": "float64",
         "type": "float"
        },
        {
         "name": "release_year",
         "rawType": "float64",
         "type": "float"
        },
        {
         "name": "n_genres",
         "rawType": "int64",
         "type": "integer"
        },
        {
         "name": "overview_length",
         "rawType": "int64",
         "type": "integer"
        },
        {
         "name": "release_decade",
         "rawType": "float64",
         "type": "float"
        }
       ],
       "ref": "cda168dc-774a-4a5a-b4c4-d6247a5d40a0",
       "rows": [
        [
         "0",
         "6",
         "['Action', 'Crime', 'Thriller']",
         "The Public Enemy battle The Gangstas in a Steel Cage Match. Tommy Dreamer & The Pitbulls battle Raven & The Dudleys in Six-Man Tag Team action. ECW Champion The Sandman defends his title against Axl Rotten. Also featuring Stevie Richards, Luna Vachon, Dean Malenko, Eddie Guerrero and more.",
         "0.2205",
         "/4miPIzrKBaSznoTBv1bS0sZwoMG.jpg",
         "1995-07-15",
         "Heat (1995)",
         "706330",
         "0.0",
         "1995.0",
         "3",
         "290",
         "1990.0"
        ],
        [
         "1",
         "34",
         "[\"Children's\", 'Comedy', 'Drama']",
         "Babe is a little pig who doesn't quite know his place in the world. With a bunch of odd friends, like Ferdinand the duck who thinks he is a rooster and Fly the dog he calls mum, Babe realises that he has the makings to become the greatest sheep pig of all time, and Farmer Hoggett knows it. With the help of the sheep dogs, Babe learns that a pig can be anything that he wants to be.",
         "4.5272",
         "/zKuQMtnbVTz9DsOnOJmlW71v4qH.jpg",
         "1995-07-18",
         "Babe (1995)",
         "9598",
         "6.244",
         "1995.0",
         "3",
         "383",
         "1990.0"
        ],
        [
         "2",
         "50",
         "['Crime', 'Thriller']",
         "Held in an L.A. interrogation room, Verbal Kint attempts to convince the feds that a mythic crime lord, Keyser Soze, not only exists, but was also responsible for drawing him and his four partners into a multi-million dollar heist that ended with an explosion in San Pedro harbor – leaving few survivors. Verbal lures his interrogators with an incredible story of the crime lord's almost supernatural prowess.",
         "7.9936",
         "/rWbsxdwF9qQzpTPCLmDfVnVqTK1.jpg",
         "1995-07-19",
         "Usual Suspects, The (1995)",
         "629",
         "8.175",
         "1995.0",
         "2",
         "409",
         "1990.0"
        ],
        [
         "3",
         "1",
         "['Animation', \"Children's\", 'Comedy']",
         "Led by Woody, Andy's toys live happily in his room until Andy's birthday brings Buzz Lightyear onto the scene. Afraid of losing his place in Andy's heart, Woody plots against Buzz. But when circumstances separate Buzz and Woody from their owner, the duo eventually learns to put aside their differences.",
         "21.8546",
         "/uXDfjJbdP4ijW5hWSBrPrlKpxab.jpg",
         "1995-11-22",
         "Toy Story (1995)",
         "862",
         "7.968",
         "1995.0",
         "3",
         "303",
         "1990.0"
        ],
        [
         "4",
         "2",
         "['Adventure', \"Children's\", 'Fantasy']",
         "When siblings Judy and Peter discover an enchanted board game that opens the door to a magical world, they unwittingly invite Alan -- an adult who's been trapped inside the game for 26 years -- into their living room. Alan's only hope for freedom is to finish the game, which proves risky as all three find themselves running from giant rhinoceroses, evil monkeys and other terrifying creatures.",
         "3.1183",
         "/vgpXmVaVyUL7GGiDeiK1mKEKzcX.jpg",
         "1995-12-15",
         "Jumanji (1995)",
         "8844",
         "7.237",
         "1995.0",
         "3",
         "395",
         "1990.0"
        ]
       ],
       "shape": {
        "columns": 13,
        "rows": 5
       }
      },
      "text/html": [
       "<div>\n",
       "<style scoped>\n",
       "    .dataframe tbody tr th:only-of-type {\n",
       "        vertical-align: middle;\n",
       "    }\n",
       "\n",
       "    .dataframe tbody tr th {\n",
       "        vertical-align: top;\n",
       "    }\n",
       "\n",
       "    .dataframe thead th {\n",
       "        text-align: right;\n",
       "    }\n",
       "</style>\n",
       "<table border=\"1\" class=\"dataframe\">\n",
       "  <thead>\n",
       "    <tr style=\"text-align: right;\">\n",
       "      <th></th>\n",
       "      <th>movieId</th>\n",
       "      <th>genres</th>\n",
       "      <th>overview</th>\n",
       "      <th>popularity</th>\n",
       "      <th>poster_path</th>\n",
       "      <th>release_date</th>\n",
       "      <th>title</th>\n",
       "      <th>tmdb_id</th>\n",
       "      <th>vote_average</th>\n",
       "      <th>release_year</th>\n",
       "      <th>n_genres</th>\n",
       "      <th>overview_length</th>\n",
       "      <th>release_decade</th>\n",
       "    </tr>\n",
       "  </thead>\n",
       "  <tbody>\n",
       "    <tr>\n",
       "      <th>0</th>\n",
       "      <td>6</td>\n",
       "      <td>['Action', 'Crime', 'Thriller']</td>\n",
       "      <td>The Public Enemy battle The Gangstas in a Stee...</td>\n",
       "      <td>0.2205</td>\n",
       "      <td>/4miPIzrKBaSznoTBv1bS0sZwoMG.jpg</td>\n",
       "      <td>1995-07-15</td>\n",
       "      <td>Heat (1995)</td>\n",
       "      <td>706330</td>\n",
       "      <td>0.000</td>\n",
       "      <td>1995.0</td>\n",
       "      <td>3</td>\n",
       "      <td>290</td>\n",
       "      <td>1990.0</td>\n",
       "    </tr>\n",
       "    <tr>\n",
       "      <th>1</th>\n",
       "      <td>34</td>\n",
       "      <td>[\"Children's\", 'Comedy', 'Drama']</td>\n",
       "      <td>Babe is a little pig who doesn't quite know hi...</td>\n",
       "      <td>4.5272</td>\n",
       "      <td>/zKuQMtnbVTz9DsOnOJmlW71v4qH.jpg</td>\n",
       "      <td>1995-07-18</td>\n",
       "      <td>Babe (1995)</td>\n",
       "      <td>9598</td>\n",
       "      <td>6.244</td>\n",
       "      <td>1995.0</td>\n",
       "      <td>3</td>\n",
       "      <td>383</td>\n",
       "      <td>1990.0</td>\n",
       "    </tr>\n",
       "    <tr>\n",
       "      <th>2</th>\n",
       "      <td>50</td>\n",
       "      <td>['Crime', 'Thriller']</td>\n",
       "      <td>Held in an L.A. interrogation room, Verbal Kin...</td>\n",
       "      <td>7.9936</td>\n",
       "      <td>/rWbsxdwF9qQzpTPCLmDfVnVqTK1.jpg</td>\n",
       "      <td>1995-07-19</td>\n",
       "      <td>Usual Suspects, The (1995)</td>\n",
       "      <td>629</td>\n",
       "      <td>8.175</td>\n",
       "      <td>1995.0</td>\n",
       "      <td>2</td>\n",
       "      <td>409</td>\n",
       "      <td>1990.0</td>\n",
       "    </tr>\n",
       "    <tr>\n",
       "      <th>3</th>\n",
       "      <td>1</td>\n",
       "      <td>['Animation', \"Children's\", 'Comedy']</td>\n",
       "      <td>Led by Woody, Andy's toys live happily in his ...</td>\n",
       "      <td>21.8546</td>\n",
       "      <td>/uXDfjJbdP4ijW5hWSBrPrlKpxab.jpg</td>\n",
       "      <td>1995-11-22</td>\n",
       "      <td>Toy Story (1995)</td>\n",
       "      <td>862</td>\n",
       "      <td>7.968</td>\n",
       "      <td>1995.0</td>\n",
       "      <td>3</td>\n",
       "      <td>303</td>\n",
       "      <td>1990.0</td>\n",
       "    </tr>\n",
       "    <tr>\n",
       "      <th>4</th>\n",
       "      <td>2</td>\n",
       "      <td>['Adventure', \"Children's\", 'Fantasy']</td>\n",
       "      <td>When siblings Judy and Peter discover an encha...</td>\n",
       "      <td>3.1183</td>\n",
       "      <td>/vgpXmVaVyUL7GGiDeiK1mKEKzcX.jpg</td>\n",
       "      <td>1995-12-15</td>\n",
       "      <td>Jumanji (1995)</td>\n",
       "      <td>8844</td>\n",
       "      <td>7.237</td>\n",
       "      <td>1995.0</td>\n",
       "      <td>3</td>\n",
       "      <td>395</td>\n",
       "      <td>1990.0</td>\n",
       "    </tr>\n",
       "  </tbody>\n",
       "</table>\n",
       "</div>"
      ],
      "text/plain": [
       "   movieId                                  genres  \\\n",
       "0        6         ['Action', 'Crime', 'Thriller']   \n",
       "1       34       [\"Children's\", 'Comedy', 'Drama']   \n",
       "2       50                   ['Crime', 'Thriller']   \n",
       "3        1   ['Animation', \"Children's\", 'Comedy']   \n",
       "4        2  ['Adventure', \"Children's\", 'Fantasy']   \n",
       "\n",
       "                                            overview  popularity  \\\n",
       "0  The Public Enemy battle The Gangstas in a Stee...      0.2205   \n",
       "1  Babe is a little pig who doesn't quite know hi...      4.5272   \n",
       "2  Held in an L.A. interrogation room, Verbal Kin...      7.9936   \n",
       "3  Led by Woody, Andy's toys live happily in his ...     21.8546   \n",
       "4  When siblings Judy and Peter discover an encha...      3.1183   \n",
       "\n",
       "                        poster_path release_date                       title  \\\n",
       "0  /4miPIzrKBaSznoTBv1bS0sZwoMG.jpg   1995-07-15                 Heat (1995)   \n",
       "1  /zKuQMtnbVTz9DsOnOJmlW71v4qH.jpg   1995-07-18                 Babe (1995)   \n",
       "2  /rWbsxdwF9qQzpTPCLmDfVnVqTK1.jpg   1995-07-19  Usual Suspects, The (1995)   \n",
       "3  /uXDfjJbdP4ijW5hWSBrPrlKpxab.jpg   1995-11-22            Toy Story (1995)   \n",
       "4  /vgpXmVaVyUL7GGiDeiK1mKEKzcX.jpg   1995-12-15              Jumanji (1995)   \n",
       "\n",
       "   tmdb_id  vote_average  release_year  n_genres  overview_length  \\\n",
       "0   706330         0.000        1995.0         3              290   \n",
       "1     9598         6.244        1995.0         3              383   \n",
       "2      629         8.175        1995.0         2              409   \n",
       "3      862         7.968        1995.0         3              303   \n",
       "4     8844         7.237        1995.0         3              395   \n",
       "\n",
       "   release_decade  \n",
       "0          1990.0  \n",
       "1          1990.0  \n",
       "2          1990.0  \n",
       "3          1990.0  \n",
       "4          1990.0  "
      ]
     },
     "execution_count": 2,
     "metadata": {},
     "output_type": "execute_result"
    }
   ],
   "source": [
    "# Load the dataset and display the first few rows\n",
    "df = pd.read_csv(\"../data/processed/enriched_movies_clean.csv\")\n",
    "df.head()"
   ]
  },
  {
   "cell_type": "markdown",
   "id": "ca845546",
   "metadata": {},
   "source": [
    "## 3. Preprocess Overview Text\n",
    "\n",
    "To prepare the text for vectorization:\n",
    "\n",
    "- Fill missing overviews with empty strings\n",
    "- Convert all text to lowercase to reduce variance from case sensitivity\n",
    "\n",
    "This is made by our personalized package that allow us to have a modular code reutilizing functions, we start by doing:"
   ]
  },
  {
   "cell_type": "code",
   "execution_count": 3,
   "id": "31b184c6",
   "metadata": {},
   "outputs": [],
   "source": [
    "# Use the ContentBasedRecommender class to fit the model\n",
    "recommender = ContentBasedRecommender(df)\n",
    "recommender.fit()"
   ]
  },
  {
   "cell_type": "markdown",
   "id": "21a03887",
   "metadata": {},
   "source": [
    "and we have done all of the process described below (and just above)\n",
    "\n",
    "- `overview.fillna(\"\")`\n",
    "- TF-IDF vectorizer manual\n",
    "- cosine_similarity manual\n",
    "- Series for indices"
   ]
  },
  {
   "cell_type": "markdown",
   "id": "730f1490",
   "metadata": {},
   "source": [
    "## 4. TF-IDF Vectorization\n",
    "\n",
    "Using `TfidfVectorizer`:\n",
    "\n",
    "- We transform each movie overview into a vector\n",
    "- Stopwords are removed to focus on meaningful content\n",
    "- The resulting matrix has one row per movie and one column per word in the corpus"
   ]
  },
  {
   "cell_type": "markdown",
   "id": "a8367e64",
   "metadata": {},
   "source": [
    "#### 🧠 What is TF-IDF?\n",
    "\n",
    "TF-IDF stands for Term Frequency - Inverse Document Frequency. It is a statistical method used to evaluate how important a word is to a document in a collection (corpus). The main idea is:\n",
    "\n",
    "- Words that appear frequently in a document but rarely in others are more important.\n",
    "- Common words (like “the”, “and”, etc.) are ignored.\n",
    "\n",
    "✅ What does this code do?\n",
    "\n",
    "    ```python\n",
    "    vectorizer = TfidfVectorizer(stop_words=\"english\")\n",
    "    tfidf_matrix = vectorizer.fit_transform(df[\"overview_clean\"])\n",
    "    ```\n",
    "\n",
    "- This converts each movie overview into a numerical vector using the TF-IDF weighting scheme.\n",
    "- It removes common English stopwords automatically.\n",
    "- It returns a sparse matrix of shape:\n",
    "    ```\n",
    "    (n_movies, m_unique_words_in_corpus)\n",
    "    ```\n",
    "\n",
    "Each row represents a movie, and each column represents a unique word across all overviews. The value in the matrix is the TF-IDF score of that word for that movie.\n",
    "\n",
    "> ✅ Even though movies may have different overviews, all vectors have the same dimension because they are embedded in the same vocabulary space."
   ]
  },
  {
   "cell_type": "markdown",
   "id": "80c38eda",
   "metadata": {},
   "source": [
    "## 5. Cosine Similarity\n",
    "\n",
    "We calculate the **cosine similarity** between every pair of movie vectors.\n",
    "This gives us a square matrix where:\n",
    "\n",
    "- Entry (i, j) represents how similar movie *i* is to movie *j*\n",
    "- Values range from 0 (not similar) to 1 (identical)"
   ]
  },
  {
   "cell_type": "markdown",
   "id": "e90524b0",
   "metadata": {},
   "source": [
    "#### 📏 What is Cosine Similarity?\n",
    "\n",
    "Cosine similarity is a metric used to measure how similar two vectors are, regardless of their magnitude.\n",
    "\n",
    "🔸 **Formula**:\n",
    "\n",
    "$$\n",
    "\\cos{(A, \\, B)} = \\frac{A \\cdot B}{\\| A \\| \\cdot \\| B \\|}\n",
    "$$\n",
    "\n",
    "where\n",
    "\n",
    "- $A \\cdot B$ is the dot product of the two vectors\n",
    "- $\\|A\\|$ and $\\|B\\|$ are their respective norms (magnitudes)\n",
    "- Values range from 0 (completely dissimilar) to 1 (identical direction in space).\n",
    "- This is especially useful for text, because two documents can be similar even if one is longer than the other.\n",
    "\n",
    "✅ What does this code do?\n",
    "\n",
    "    ```python\n",
    "    cosine_sim = cosine_similarity(tfidf_matrix, tfidf_matrix)\n",
    "    ```\n",
    "\n",
    "- It computes the pairwise cosine similarity between every pair of movies.\n",
    "- Returns a square matrix of shape:\n",
    "\n",
    "    ```bash\n",
    "    (n_movies, n_movies)\n",
    "    ```\n",
    "\n",
    "- Entry [i, j] in this matrix indicates how similar movie i is to movie j, based on their TF-IDF vectors.\n",
    "\n",
    "> ✅ This matrix allows us to find the most similar movies to any given movie using only their descriptions."
   ]
  },
  {
   "cell_type": "markdown",
   "id": "07fbcca6",
   "metadata": {},
   "source": [
    "## 6. Recommend Function\n",
    "\n",
    "We define a function `recommender.get_recommendations(title, top_n)` that:\n",
    "\n",
    "1. Locates the index of the selected movie\n",
    "2. Retrieves similarity scores against all other movies\n",
    "3. Sorts and selects the top n most similar\n",
    "4. Returns the corresponding titles\n",
    "\n",
    "This is a **content-based approach**, meaning it recommends movies with similar descriptions regardless of user behavior or ratings, the function belongs to the class `ContentBasedRecommender` that was storaged in an instance as the variable `recommender`."
   ]
  },
  {
   "cell_type": "markdown",
   "id": "dad9af2e",
   "metadata": {},
   "source": [
    "#### 🔍 Example: Toy Story (1995)\n",
    "\n",
    "Running the function with \"Toy Story (1995)\" returns:"
   ]
  },
  {
   "cell_type": "code",
   "execution_count": 6,
   "id": "b35ce70d",
   "metadata": {},
   "outputs": [
    {
     "data": {
      "text/plain": [
       "['Toy Story 2 (1999)',\n",
       " 'Rebel Without a Cause (1955)',\n",
       " 'Condorman (1981)',\n",
       " 'Malice (1993)',\n",
       " 'Man on the Moon (1999)']"
      ]
     },
     "execution_count": 6,
     "metadata": {},
     "output_type": "execute_result"
    }
   ],
   "source": [
    "movie_title = \"Toy Story (1995)\"\n",
    "recommender.get_recommendations(movie_title, top_n=5)"
   ]
  },
  {
   "cell_type": "markdown",
   "id": "deb4e912",
   "metadata": {},
   "source": [
    "We can see that “**Toy Story 2**” ranks highly, which is expected due to its direct thematic and narrative connection."
   ]
  },
  {
   "cell_type": "code",
   "execution_count": 7,
   "id": "bc2aede3",
   "metadata": {},
   "outputs": [
    {
     "name": "stdout",
     "output_type": "stream",
     "text": [
      "1. Toy Story 2 (1999)\n",
      "2. Rebel Without a Cause (1955)\n",
      "3. Condorman (1981)\n",
      "4. Malice (1993)\n",
      "5. Man on the Moon (1999)\n"
     ]
    }
   ],
   "source": [
    "results = recommender.get_recommendations(\"Toy Story (1995)\", top_n=5)\n",
    "for i, title in enumerate(results, 1):\n",
    "    print(f\"{i}. {title}\")"
   ]
  }
 ],
 "metadata": {
  "kernelspec": {
   "display_name": "Python (Recommendation)",
   "language": "python",
   "name": "personalized-recommender"
  },
  "language_info": {
   "codemirror_mode": {
    "name": "ipython",
    "version": 3
   },
   "file_extension": ".py",
   "mimetype": "text/x-python",
   "name": "python",
   "nbconvert_exporter": "python",
   "pygments_lexer": "ipython3",
   "version": "3.12.7"
  }
 },
 "nbformat": 4,
 "nbformat_minor": 5
}
