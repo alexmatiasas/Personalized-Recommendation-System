{
 "cells": [
  {
   "cell_type": "markdown",
   "id": "f8bce2dd",
   "metadata": {},
   "source": [
    "# 🎬 Exploratory Data Analysis on Enriched Movie Metadata\n",
    "\n",
    "In this notebook, we explore the movie dataset (from [MovieLens 1M Dataset](https://grouplens.org/datasets/movielens/1m/)) enriched with metadata retrieved from [TMDb](https://www.themoviedb.org). Our goal is to assess the quality, completeness, and characteristics of the available information such as genres, overview length, ratings, popularity scores, and release timelines. This enriched dataset serves as the foundation for our content-based recommender system.\n",
    "\n",
    "---\n",
    "\n",
    "## ⚙️ 1. Setup & Libraries\n",
    "We begin by importing required packages and setting up a consistent plotting style."
   ]
  },
  {
   "cell_type": "markdown",
   "id": "47b76b7e",
   "metadata": {},
   "source": [
    "### 🧩 Setup"
   ]
  },
  {
   "cell_type": "code",
   "execution_count": 1,
   "id": "94e6ac3f",
   "metadata": {},
   "outputs": [],
   "source": [
    "# 📦 Import core libraries\n",
    "import pandas as pd\n",
    "import matplotlib.pyplot as plt\n",
    "import seaborn as sns\n",
    "import numpy as np\n",
    "from collections import Counter"
   ]
  },
  {
   "cell_type": "code",
   "execution_count": 2,
   "id": "0dd3dd1b",
   "metadata": {},
   "outputs": [],
   "source": [
    "# 📊 Set plot styles\n",
    "plt.style.use(\"seaborn-v0_8-whitegrid\")\n",
    "sns.set_palette(\"Set2\")"
   ]
  },
  {
   "cell_type": "markdown",
   "id": "d76f45d4",
   "metadata": {},
   "source": [
    "## 📥 2. Load Dataset\n",
    "\n",
    "We now load the enriched metadata CSV generated from the [TMDb](https://www.themoviedb.org) enrichment pipeline.\n",
    "\n",
    "- The dataset includes: `title`, `genres`, `overview`, `popularity`, `vote_average`, `release_date`, etc.\n",
    "- It is stored in: `data/processed/enriched_movies.csv` (from root of the project)"
   ]
  },
  {
   "cell_type": "code",
   "execution_count": 3,
   "id": "40314e1e",
   "metadata": {},
   "outputs": [
    {
     "name": "stdout",
     "output_type": "stream",
     "text": [
      "✅ Movies loaded: 3755\n"
     ]
    },
    {
     "data": {
      "application/vnd.microsoft.datawrangler.viewer.v0+json": {
       "columns": [
        {
         "name": "index",
         "rawType": "int64",
         "type": "integer"
        },
        {
         "name": "movieId",
         "rawType": "int64",
         "type": "integer"
        },
        {
         "name": "genres",
         "rawType": "object",
         "type": "string"
        },
        {
         "name": "overview",
         "rawType": "object",
         "type": "string"
        },
        {
         "name": "popularity",
         "rawType": "float64",
         "type": "float"
        },
        {
         "name": "poster_path",
         "rawType": "object",
         "type": "string"
        },
        {
         "name": "release_date",
         "rawType": "object",
         "type": "string"
        },
        {
         "name": "title",
         "rawType": "object",
         "type": "string"
        },
        {
         "name": "tmdb_id",
         "rawType": "int64",
         "type": "integer"
        },
        {
         "name": "vote_average",
         "rawType": "float64",
         "type": "float"
        }
       ],
       "ref": "58b87730-8569-44ed-a991-ca11351198e5",
       "rows": [
        [
         "0",
         "6",
         "['Action', 'Crime', 'Thriller']",
         "The Public Enemy battle The Gangstas in a Steel Cage Match. Tommy Dreamer & The Pitbulls battle Raven & The Dudleys in Six-Man Tag Team action. ECW Champion The Sandman defends his title against Axl Rotten. Also featuring Stevie Richards, Luna Vachon, Dean Malenko, Eddie Guerrero and more.",
         "0.2205",
         "/4miPIzrKBaSznoTBv1bS0sZwoMG.jpg",
         "1995-07-15",
         "Heat (1995)",
         "706330",
         "0.0"
        ],
        [
         "1",
         "34",
         "[\"Children's\", 'Comedy', 'Drama']",
         "Babe is a little pig who doesn't quite know his place in the world. With a bunch of odd friends, like Ferdinand the duck who thinks he is a rooster and Fly the dog he calls mum, Babe realises that he has the makings to become the greatest sheep pig of all time, and Farmer Hoggett knows it. With the help of the sheep dogs, Babe learns that a pig can be anything that he wants to be.",
         "4.5272",
         "/zKuQMtnbVTz9DsOnOJmlW71v4qH.jpg",
         "1995-07-18",
         "Babe (1995)",
         "9598",
         "6.244"
        ],
        [
         "2",
         "50",
         "['Crime', 'Thriller']",
         "Held in an L.A. interrogation room, Verbal Kint attempts to convince the feds that a mythic crime lord, Keyser Soze, not only exists, but was also responsible for drawing him and his four partners into a multi-million dollar heist that ended with an explosion in San Pedro harbor – leaving few survivors. Verbal lures his interrogators with an incredible story of the crime lord's almost supernatural prowess.",
         "7.9936",
         "/rWbsxdwF9qQzpTPCLmDfVnVqTK1.jpg",
         "1995-07-19",
         "Usual Suspects, The (1995)",
         "629",
         "8.175"
        ],
        [
         "3",
         "1",
         "['Animation', \"Children's\", 'Comedy']",
         "Led by Woody, Andy's toys live happily in his room until Andy's birthday brings Buzz Lightyear onto the scene. Afraid of losing his place in Andy's heart, Woody plots against Buzz. But when circumstances separate Buzz and Woody from their owner, the duo eventually learns to put aside their differences.",
         "21.8546",
         "/uXDfjJbdP4ijW5hWSBrPrlKpxab.jpg",
         "1995-11-22",
         "Toy Story (1995)",
         "862",
         "7.968"
        ],
        [
         "4",
         "2",
         "['Adventure', \"Children's\", 'Fantasy']",
         "When siblings Judy and Peter discover an enchanted board game that opens the door to a magical world, they unwittingly invite Alan -- an adult who's been trapped inside the game for 26 years -- into their living room. Alan's only hope for freedom is to finish the game, which proves risky as all three find themselves running from giant rhinoceroses, evil monkeys and other terrifying creatures.",
         "3.1183",
         "/vgpXmVaVyUL7GGiDeiK1mKEKzcX.jpg",
         "1995-12-15",
         "Jumanji (1995)",
         "8844",
         "7.237"
        ]
       ],
       "shape": {
        "columns": 9,
        "rows": 5
       }
      },
      "text/html": [
       "<div>\n",
       "<style scoped>\n",
       "    .dataframe tbody tr th:only-of-type {\n",
       "        vertical-align: middle;\n",
       "    }\n",
       "\n",
       "    .dataframe tbody tr th {\n",
       "        vertical-align: top;\n",
       "    }\n",
       "\n",
       "    .dataframe thead th {\n",
       "        text-align: right;\n",
       "    }\n",
       "</style>\n",
       "<table border=\"1\" class=\"dataframe\">\n",
       "  <thead>\n",
       "    <tr style=\"text-align: right;\">\n",
       "      <th></th>\n",
       "      <th>movieId</th>\n",
       "      <th>genres</th>\n",
       "      <th>overview</th>\n",
       "      <th>popularity</th>\n",
       "      <th>poster_path</th>\n",
       "      <th>release_date</th>\n",
       "      <th>title</th>\n",
       "      <th>tmdb_id</th>\n",
       "      <th>vote_average</th>\n",
       "    </tr>\n",
       "  </thead>\n",
       "  <tbody>\n",
       "    <tr>\n",
       "      <th>0</th>\n",
       "      <td>6</td>\n",
       "      <td>['Action', 'Crime', 'Thriller']</td>\n",
       "      <td>The Public Enemy battle The Gangstas in a Stee...</td>\n",
       "      <td>0.2205</td>\n",
       "      <td>/4miPIzrKBaSznoTBv1bS0sZwoMG.jpg</td>\n",
       "      <td>1995-07-15</td>\n",
       "      <td>Heat (1995)</td>\n",
       "      <td>706330</td>\n",
       "      <td>0.000</td>\n",
       "    </tr>\n",
       "    <tr>\n",
       "      <th>1</th>\n",
       "      <td>34</td>\n",
       "      <td>[\"Children's\", 'Comedy', 'Drama']</td>\n",
       "      <td>Babe is a little pig who doesn't quite know hi...</td>\n",
       "      <td>4.5272</td>\n",
       "      <td>/zKuQMtnbVTz9DsOnOJmlW71v4qH.jpg</td>\n",
       "      <td>1995-07-18</td>\n",
       "      <td>Babe (1995)</td>\n",
       "      <td>9598</td>\n",
       "      <td>6.244</td>\n",
       "    </tr>\n",
       "    <tr>\n",
       "      <th>2</th>\n",
       "      <td>50</td>\n",
       "      <td>['Crime', 'Thriller']</td>\n",
       "      <td>Held in an L.A. interrogation room, Verbal Kin...</td>\n",
       "      <td>7.9936</td>\n",
       "      <td>/rWbsxdwF9qQzpTPCLmDfVnVqTK1.jpg</td>\n",
       "      <td>1995-07-19</td>\n",
       "      <td>Usual Suspects, The (1995)</td>\n",
       "      <td>629</td>\n",
       "      <td>8.175</td>\n",
       "    </tr>\n",
       "    <tr>\n",
       "      <th>3</th>\n",
       "      <td>1</td>\n",
       "      <td>['Animation', \"Children's\", 'Comedy']</td>\n",
       "      <td>Led by Woody, Andy's toys live happily in his ...</td>\n",
       "      <td>21.8546</td>\n",
       "      <td>/uXDfjJbdP4ijW5hWSBrPrlKpxab.jpg</td>\n",
       "      <td>1995-11-22</td>\n",
       "      <td>Toy Story (1995)</td>\n",
       "      <td>862</td>\n",
       "      <td>7.968</td>\n",
       "    </tr>\n",
       "    <tr>\n",
       "      <th>4</th>\n",
       "      <td>2</td>\n",
       "      <td>['Adventure', \"Children's\", 'Fantasy']</td>\n",
       "      <td>When siblings Judy and Peter discover an encha...</td>\n",
       "      <td>3.1183</td>\n",
       "      <td>/vgpXmVaVyUL7GGiDeiK1mKEKzcX.jpg</td>\n",
       "      <td>1995-12-15</td>\n",
       "      <td>Jumanji (1995)</td>\n",
       "      <td>8844</td>\n",
       "      <td>7.237</td>\n",
       "    </tr>\n",
       "  </tbody>\n",
       "</table>\n",
       "</div>"
      ],
      "text/plain": [
       "   movieId                                  genres  \\\n",
       "0        6         ['Action', 'Crime', 'Thriller']   \n",
       "1       34       [\"Children's\", 'Comedy', 'Drama']   \n",
       "2       50                   ['Crime', 'Thriller']   \n",
       "3        1   ['Animation', \"Children's\", 'Comedy']   \n",
       "4        2  ['Adventure', \"Children's\", 'Fantasy']   \n",
       "\n",
       "                                            overview  popularity  \\\n",
       "0  The Public Enemy battle The Gangstas in a Stee...      0.2205   \n",
       "1  Babe is a little pig who doesn't quite know hi...      4.5272   \n",
       "2  Held in an L.A. interrogation room, Verbal Kin...      7.9936   \n",
       "3  Led by Woody, Andy's toys live happily in his ...     21.8546   \n",
       "4  When siblings Judy and Peter discover an encha...      3.1183   \n",
       "\n",
       "                        poster_path release_date                       title  \\\n",
       "0  /4miPIzrKBaSznoTBv1bS0sZwoMG.jpg   1995-07-15                 Heat (1995)   \n",
       "1  /zKuQMtnbVTz9DsOnOJmlW71v4qH.jpg   1995-07-18                 Babe (1995)   \n",
       "2  /rWbsxdwF9qQzpTPCLmDfVnVqTK1.jpg   1995-07-19  Usual Suspects, The (1995)   \n",
       "3  /uXDfjJbdP4ijW5hWSBrPrlKpxab.jpg   1995-11-22            Toy Story (1995)   \n",
       "4  /vgpXmVaVyUL7GGiDeiK1mKEKzcX.jpg   1995-12-15              Jumanji (1995)   \n",
       "\n",
       "   tmdb_id  vote_average  \n",
       "0   706330         0.000  \n",
       "1     9598         6.244  \n",
       "2      629         8.175  \n",
       "3      862         7.968  \n",
       "4     8844         7.237  "
      ]
     },
     "execution_count": 3,
     "metadata": {},
     "output_type": "execute_result"
    }
   ],
   "source": [
    "# 📥 Load Data\n",
    "df = pd.read_csv(\"../data/processed/enriched_movies.csv\")\n",
    "print(f\"✅ Movies loaded: {len(df)}\")\n",
    "df.head()\n"
   ]
  },
  {
   "cell_type": "code",
   "execution_count": 4,
   "id": "1f1d30c2",
   "metadata": {},
   "outputs": [
    {
     "data": {
      "application/vnd.microsoft.datawrangler.viewer.v0+json": {
       "columns": [
        {
         "name": "index",
         "rawType": "object",
         "type": "string"
        },
        {
         "name": "0",
         "rawType": "object",
         "type": "unknown"
        }
       ],
       "ref": "fdc48a87-ea81-46fd-86b7-11ee4b4cc9f7",
       "rows": [
        [
         "movieId",
         "int64"
        ],
        [
         "genres",
         "object"
        ],
        [
         "overview",
         "object"
        ],
        [
         "popularity",
         "float64"
        ],
        [
         "poster_path",
         "object"
        ],
        [
         "release_date",
         "object"
        ],
        [
         "title",
         "object"
        ],
        [
         "tmdb_id",
         "int64"
        ],
        [
         "vote_average",
         "float64"
        ]
       ],
       "shape": {
        "columns": 1,
        "rows": 9
       }
      },
      "text/plain": [
       "movieId           int64\n",
       "genres           object\n",
       "overview         object\n",
       "popularity      float64\n",
       "poster_path      object\n",
       "release_date     object\n",
       "title            object\n",
       "tmdb_id           int64\n",
       "vote_average    float64\n",
       "dtype: object"
      ]
     },
     "execution_count": 4,
     "metadata": {},
     "output_type": "execute_result"
    }
   ],
   "source": [
    "df.dtypes"
   ]
  },
  {
   "cell_type": "markdown",
   "id": "0e3f24d8",
   "metadata": {},
   "source": [
    "## 🧹 3. Preprocessing\n",
    "\n",
    "Before performing visual analysis, we apply basic preprocessing to ensure consistency across key fields. Specifically:\n",
    "\n",
    "- We extract the `release_year` from the release_date column."
   ]
  },
  {
   "cell_type": "code",
   "execution_count": 5,
   "id": "78370c90",
   "metadata": {},
   "outputs": [],
   "source": [
    "# 📆 Convert release date to datetime and extract year\n",
    "df['release_date'] = pd.to_datetime(df['release_date'], errors='coerce')\n",
    "df['release_year'] = df['release_date'].dt.year"
   ]
  },
  {
   "cell_type": "markdown",
   "id": "44e63996",
   "metadata": {},
   "source": [
    "In addition to parsing release years, we engineered a few auxiliary features:\n",
    "\n",
    "- Parsed the `genres` column from string to list format.\n",
    "- Counted the number of genres assigned to each movie.\n",
    "- Computed the `overview_length` to capture the description length per title."
   ]
  },
  {
   "cell_type": "code",
   "execution_count": 6,
   "id": "d2a2b38b",
   "metadata": {},
   "outputs": [],
   "source": [
    "# 🧠 Normalize genres (convert from string list to real list)\n",
    "df['genres'] = df['genres'].apply(lambda x: eval(x) if isinstance(x, str) else [])\n",
    "df['n_genres'] = df['genres'].apply(len)\n",
    "\n",
    "# 📝 Calculate overview length\n",
    "df['overview_length'] = df['overview'].fillna('').apply(len)"
   ]
  },
  {
   "cell_type": "code",
   "execution_count": 7,
   "id": "6a1a8954",
   "metadata": {},
   "outputs": [
    {
     "data": {
      "application/vnd.microsoft.datawrangler.viewer.v0+json": {
       "columns": [
        {
         "name": "index",
         "rawType": "int64",
         "type": "integer"
        },
        {
         "name": "movieId",
         "rawType": "int64",
         "type": "integer"
        },
        {
         "name": "genres",
         "rawType": "object",
         "type": "unknown"
        },
        {
         "name": "overview",
         "rawType": "object",
         "type": "string"
        },
        {
         "name": "popularity",
         "rawType": "float64",
         "type": "float"
        },
        {
         "name": "poster_path",
         "rawType": "object",
         "type": "string"
        },
        {
         "name": "release_date",
         "rawType": "datetime64[ns]",
         "type": "datetime"
        },
        {
         "name": "title",
         "rawType": "object",
         "type": "string"
        },
        {
         "name": "tmdb_id",
         "rawType": "int64",
         "type": "integer"
        },
        {
         "name": "vote_average",
         "rawType": "float64",
         "type": "float"
        },
        {
         "name": "release_year",
         "rawType": "float64",
         "type": "float"
        },
        {
         "name": "n_genres",
         "rawType": "int64",
         "type": "integer"
        },
        {
         "name": "overview_length",
         "rawType": "int64",
         "type": "integer"
        }
       ],
       "ref": "a84a6c2e-cc8c-4aa6-9026-42b146851e32",
       "rows": [
        [
         "0",
         "6",
         "['Action', 'Crime', 'Thriller']",
         "The Public Enemy battle The Gangstas in a Steel Cage Match. Tommy Dreamer & The Pitbulls battle Raven & The Dudleys in Six-Man Tag Team action. ECW Champion The Sandman defends his title against Axl Rotten. Also featuring Stevie Richards, Luna Vachon, Dean Malenko, Eddie Guerrero and more.",
         "0.2205",
         "/4miPIzrKBaSznoTBv1bS0sZwoMG.jpg",
         "1995-07-15 00:00:00",
         "Heat (1995)",
         "706330",
         "0.0",
         "1995.0",
         "3",
         "290"
        ],
        [
         "1",
         "34",
         "[\"Children's\", 'Comedy', 'Drama']",
         "Babe is a little pig who doesn't quite know his place in the world. With a bunch of odd friends, like Ferdinand the duck who thinks he is a rooster and Fly the dog he calls mum, Babe realises that he has the makings to become the greatest sheep pig of all time, and Farmer Hoggett knows it. With the help of the sheep dogs, Babe learns that a pig can be anything that he wants to be.",
         "4.5272",
         "/zKuQMtnbVTz9DsOnOJmlW71v4qH.jpg",
         "1995-07-18 00:00:00",
         "Babe (1995)",
         "9598",
         "6.244",
         "1995.0",
         "3",
         "383"
        ],
        [
         "2",
         "50",
         "['Crime', 'Thriller']",
         "Held in an L.A. interrogation room, Verbal Kint attempts to convince the feds that a mythic crime lord, Keyser Soze, not only exists, but was also responsible for drawing him and his four partners into a multi-million dollar heist that ended with an explosion in San Pedro harbor – leaving few survivors. Verbal lures his interrogators with an incredible story of the crime lord's almost supernatural prowess.",
         "7.9936",
         "/rWbsxdwF9qQzpTPCLmDfVnVqTK1.jpg",
         "1995-07-19 00:00:00",
         "Usual Suspects, The (1995)",
         "629",
         "8.175",
         "1995.0",
         "2",
         "409"
        ],
        [
         "3",
         "1",
         "['Animation', \"Children's\", 'Comedy']",
         "Led by Woody, Andy's toys live happily in his room until Andy's birthday brings Buzz Lightyear onto the scene. Afraid of losing his place in Andy's heart, Woody plots against Buzz. But when circumstances separate Buzz and Woody from their owner, the duo eventually learns to put aside their differences.",
         "21.8546",
         "/uXDfjJbdP4ijW5hWSBrPrlKpxab.jpg",
         "1995-11-22 00:00:00",
         "Toy Story (1995)",
         "862",
         "7.968",
         "1995.0",
         "3",
         "303"
        ],
        [
         "4",
         "2",
         "['Adventure', \"Children's\", 'Fantasy']",
         "When siblings Judy and Peter discover an enchanted board game that opens the door to a magical world, they unwittingly invite Alan -- an adult who's been trapped inside the game for 26 years -- into their living room. Alan's only hope for freedom is to finish the game, which proves risky as all three find themselves running from giant rhinoceroses, evil monkeys and other terrifying creatures.",
         "3.1183",
         "/vgpXmVaVyUL7GGiDeiK1mKEKzcX.jpg",
         "1995-12-15 00:00:00",
         "Jumanji (1995)",
         "8844",
         "7.237",
         "1995.0",
         "3",
         "395"
        ]
       ],
       "shape": {
        "columns": 12,
        "rows": 5
       }
      },
      "text/html": [
       "<div>\n",
       "<style scoped>\n",
       "    .dataframe tbody tr th:only-of-type {\n",
       "        vertical-align: middle;\n",
       "    }\n",
       "\n",
       "    .dataframe tbody tr th {\n",
       "        vertical-align: top;\n",
       "    }\n",
       "\n",
       "    .dataframe thead th {\n",
       "        text-align: right;\n",
       "    }\n",
       "</style>\n",
       "<table border=\"1\" class=\"dataframe\">\n",
       "  <thead>\n",
       "    <tr style=\"text-align: right;\">\n",
       "      <th></th>\n",
       "      <th>movieId</th>\n",
       "      <th>genres</th>\n",
       "      <th>overview</th>\n",
       "      <th>popularity</th>\n",
       "      <th>poster_path</th>\n",
       "      <th>release_date</th>\n",
       "      <th>title</th>\n",
       "      <th>tmdb_id</th>\n",
       "      <th>vote_average</th>\n",
       "      <th>release_year</th>\n",
       "      <th>n_genres</th>\n",
       "      <th>overview_length</th>\n",
       "    </tr>\n",
       "  </thead>\n",
       "  <tbody>\n",
       "    <tr>\n",
       "      <th>0</th>\n",
       "      <td>6</td>\n",
       "      <td>[Action, Crime, Thriller]</td>\n",
       "      <td>The Public Enemy battle The Gangstas in a Stee...</td>\n",
       "      <td>0.2205</td>\n",
       "      <td>/4miPIzrKBaSznoTBv1bS0sZwoMG.jpg</td>\n",
       "      <td>1995-07-15</td>\n",
       "      <td>Heat (1995)</td>\n",
       "      <td>706330</td>\n",
       "      <td>0.000</td>\n",
       "      <td>1995.0</td>\n",
       "      <td>3</td>\n",
       "      <td>290</td>\n",
       "    </tr>\n",
       "    <tr>\n",
       "      <th>1</th>\n",
       "      <td>34</td>\n",
       "      <td>[Children's, Comedy, Drama]</td>\n",
       "      <td>Babe is a little pig who doesn't quite know hi...</td>\n",
       "      <td>4.5272</td>\n",
       "      <td>/zKuQMtnbVTz9DsOnOJmlW71v4qH.jpg</td>\n",
       "      <td>1995-07-18</td>\n",
       "      <td>Babe (1995)</td>\n",
       "      <td>9598</td>\n",
       "      <td>6.244</td>\n",
       "      <td>1995.0</td>\n",
       "      <td>3</td>\n",
       "      <td>383</td>\n",
       "    </tr>\n",
       "    <tr>\n",
       "      <th>2</th>\n",
       "      <td>50</td>\n",
       "      <td>[Crime, Thriller]</td>\n",
       "      <td>Held in an L.A. interrogation room, Verbal Kin...</td>\n",
       "      <td>7.9936</td>\n",
       "      <td>/rWbsxdwF9qQzpTPCLmDfVnVqTK1.jpg</td>\n",
       "      <td>1995-07-19</td>\n",
       "      <td>Usual Suspects, The (1995)</td>\n",
       "      <td>629</td>\n",
       "      <td>8.175</td>\n",
       "      <td>1995.0</td>\n",
       "      <td>2</td>\n",
       "      <td>409</td>\n",
       "    </tr>\n",
       "    <tr>\n",
       "      <th>3</th>\n",
       "      <td>1</td>\n",
       "      <td>[Animation, Children's, Comedy]</td>\n",
       "      <td>Led by Woody, Andy's toys live happily in his ...</td>\n",
       "      <td>21.8546</td>\n",
       "      <td>/uXDfjJbdP4ijW5hWSBrPrlKpxab.jpg</td>\n",
       "      <td>1995-11-22</td>\n",
       "      <td>Toy Story (1995)</td>\n",
       "      <td>862</td>\n",
       "      <td>7.968</td>\n",
       "      <td>1995.0</td>\n",
       "      <td>3</td>\n",
       "      <td>303</td>\n",
       "    </tr>\n",
       "    <tr>\n",
       "      <th>4</th>\n",
       "      <td>2</td>\n",
       "      <td>[Adventure, Children's, Fantasy]</td>\n",
       "      <td>When siblings Judy and Peter discover an encha...</td>\n",
       "      <td>3.1183</td>\n",
       "      <td>/vgpXmVaVyUL7GGiDeiK1mKEKzcX.jpg</td>\n",
       "      <td>1995-12-15</td>\n",
       "      <td>Jumanji (1995)</td>\n",
       "      <td>8844</td>\n",
       "      <td>7.237</td>\n",
       "      <td>1995.0</td>\n",
       "      <td>3</td>\n",
       "      <td>395</td>\n",
       "    </tr>\n",
       "  </tbody>\n",
       "</table>\n",
       "</div>"
      ],
      "text/plain": [
       "   movieId                            genres  \\\n",
       "0        6         [Action, Crime, Thriller]   \n",
       "1       34       [Children's, Comedy, Drama]   \n",
       "2       50                 [Crime, Thriller]   \n",
       "3        1   [Animation, Children's, Comedy]   \n",
       "4        2  [Adventure, Children's, Fantasy]   \n",
       "\n",
       "                                            overview  popularity  \\\n",
       "0  The Public Enemy battle The Gangstas in a Stee...      0.2205   \n",
       "1  Babe is a little pig who doesn't quite know hi...      4.5272   \n",
       "2  Held in an L.A. interrogation room, Verbal Kin...      7.9936   \n",
       "3  Led by Woody, Andy's toys live happily in his ...     21.8546   \n",
       "4  When siblings Judy and Peter discover an encha...      3.1183   \n",
       "\n",
       "                        poster_path release_date                       title  \\\n",
       "0  /4miPIzrKBaSznoTBv1bS0sZwoMG.jpg   1995-07-15                 Heat (1995)   \n",
       "1  /zKuQMtnbVTz9DsOnOJmlW71v4qH.jpg   1995-07-18                 Babe (1995)   \n",
       "2  /rWbsxdwF9qQzpTPCLmDfVnVqTK1.jpg   1995-07-19  Usual Suspects, The (1995)   \n",
       "3  /uXDfjJbdP4ijW5hWSBrPrlKpxab.jpg   1995-11-22            Toy Story (1995)   \n",
       "4  /vgpXmVaVyUL7GGiDeiK1mKEKzcX.jpg   1995-12-15              Jumanji (1995)   \n",
       "\n",
       "   tmdb_id  vote_average  release_year  n_genres  overview_length  \n",
       "0   706330         0.000        1995.0         3              290  \n",
       "1     9598         6.244        1995.0         3              383  \n",
       "2      629         8.175        1995.0         2              409  \n",
       "3      862         7.968        1995.0         3              303  \n",
       "4     8844         7.237        1995.0         3              395  "
      ]
     },
     "execution_count": 7,
     "metadata": {},
     "output_type": "execute_result"
    }
   ],
   "source": [
    "df.head()"
   ]
  },
  {
   "cell_type": "code",
   "execution_count": 8,
   "id": "d97b9973",
   "metadata": {},
   "outputs": [
    {
     "data": {
      "application/vnd.microsoft.datawrangler.viewer.v0+json": {
       "columns": [
        {
         "name": "index",
         "rawType": "object",
         "type": "string"
        },
        {
         "name": "0",
         "rawType": "object",
         "type": "unknown"
        }
       ],
       "ref": "e715317c-0928-4b47-a62d-ac5cbb502c7b",
       "rows": [
        [
         "movieId",
         "int64"
        ],
        [
         "genres",
         "object"
        ],
        [
         "overview",
         "object"
        ],
        [
         "popularity",
         "float64"
        ],
        [
         "poster_path",
         "object"
        ],
        [
         "release_date",
         "datetime64[ns]"
        ],
        [
         "title",
         "object"
        ],
        [
         "tmdb_id",
         "int64"
        ],
        [
         "vote_average",
         "float64"
        ],
        [
         "release_year",
         "float64"
        ],
        [
         "n_genres",
         "int64"
        ],
        [
         "overview_length",
         "int64"
        ]
       ],
       "shape": {
        "columns": 1,
        "rows": 12
       }
      },
      "text/plain": [
       "movieId                     int64\n",
       "genres                     object\n",
       "overview                   object\n",
       "popularity                float64\n",
       "poster_path                object\n",
       "release_date       datetime64[ns]\n",
       "title                      object\n",
       "tmdb_id                     int64\n",
       "vote_average              float64\n",
       "release_year              float64\n",
       "n_genres                    int64\n",
       "overview_length             int64\n",
       "dtype: object"
      ]
     },
     "execution_count": 8,
     "metadata": {},
     "output_type": "execute_result"
    }
   ],
   "source": [
    "df.dtypes"
   ]
  },
  {
   "cell_type": "markdown",
   "id": "f8da3ad7",
   "metadata": {},
   "source": [
    "## 📊 4. Visual Exploration of Metadata\n",
    "\n",
    "Now that we’ve cleaned and enriched the movie dataset with TMDb metadata, we proceed to explore key variables to gain insights into distribution patterns, potential outliers, and modeling implications.\n",
    "\n",
    "### 📏  4.1 Overview Length Distribution\n",
    "\n",
    "To understand the richness of textual descriptions available for each movie, we analyze the distribution of `overview_length` (i.e., the number of characters per movie overview).\n",
    "\n",
    "This gives insight into:\n",
    "- The average amount of text per movie (for TF-IDF or embedding-based models).\n",
    "- Possible outliers or overly short entries that may lack useful metadata."
   ]
  },
  {
   "cell_type": "code",
   "execution_count": 9,
   "id": "3ce700de",
   "metadata": {},
   "outputs": [
    {
     "data": {
      "image/png": "[encoded data removed]",
      "text/plain": [
       "<Figure size 1000x400 with 1 Axes>"
      ]
     },
     "metadata": {},
     "output_type": "display_data"
    }
   ],
   "source": [
    "# 📊 Overview Length Analysis\n",
    "plt.figure(figsize=(10,4))\n",
    "sns.histplot(df['overview_length'], bins=50)\n",
    "plt.title(\"Distribution of Overview Lengths\")\n",
    "plt.xlabel(\"Number of Characters\")\n",
    "plt.ylabel(\"Frequency\")\n",
    "plt.show()"
   ]
  },
  {
   "cell_type": "markdown",
   "id": "3c884adc",
   "metadata": {},
   "source": [
    "🔍 Most movies have overviews between 100 and 400 characters. This indicates that the dataset is rich enough in textual metadata for content-based filtering."
   ]
  },
  {
   "cell_type": "markdown",
   "id": "c20a3663",
   "metadata": {},
   "source": [
    "### 🎭 4.2 Movie Genre Frequency\n",
    "\n",
    "We first investigate the **distribution of movie genres** across the enriched dataset. Since each movie can belong to multiple genres, we flatten the list and count individual occurrences."
   ]
  },
  {
   "cell_type": "code",
   "execution_count": 10,
   "id": "3cee28a7",
   "metadata": {},
   "outputs": [],
   "source": [
    "# 📊 Genre Analysis\n",
    "flat_genres = [g for sublist in df['genres'] for g in sublist]\n",
    "genre_counts = Counter(flat_genres)"
   ]
  },
  {
   "cell_type": "code",
   "execution_count": 11,
   "id": "a90b37ab",
   "metadata": {},
   "outputs": [
    {
     "data": {
      "image/png": "[encoded data removed]",
      "text/plain": [
       "<Figure size 1000x500 with 1 Axes>"
      ]
     },
     "metadata": {},
     "output_type": "display_data"
    }
   ],
   "source": [
    "# 🎭 Genre Frequency Plot\n",
    "genre_df = pd.DataFrame.from_dict(genre_counts, orient='index', columns=['count']).sort_values('count', ascending=False)\n",
    "plt.figure(figsize=(10,5))\n",
    "sns.barplot(x=genre_df.index, y=genre_df['count'])\n",
    "plt.title(\"Genre Frequency\")\n",
    "plt.xticks(rotation=45)\n",
    "plt.ylabel(\"Count\")\n",
    "plt.xlabel(\"Genre\")\n",
    "plt.show()"
   ]
  },
  {
   "cell_type": "markdown",
   "id": "bdcb8862",
   "metadata": {},
   "source": [
    "Key takeaways:\n",
    "\n",
    "- **Drama** and **Comedy** are the most frequent genres.\n",
    "- Genres like **Western** or **Film-Noir** are much rarer and may be underrepresented in the recommendations."
   ]
  },
  {
   "cell_type": "markdown",
   "id": "458a48e8",
   "metadata": {},
   "source": [
    "### ⭐ 4.3 Vote Average Distribution\n",
    "\n",
    "The `vote_average` field reflects the **TMDb average user rating** per movie (typically from 0 to 10)."
   ]
  },
  {
   "cell_type": "code",
   "execution_count": 12,
   "id": "52f7f743",
   "metadata": {},
   "outputs": [
    {
     "data": {
      "image/png": "[encoded data removed]",
      "text/plain": [
       "<Figure size 800x400 with 1 Axes>"
      ]
     },
     "metadata": {},
     "output_type": "display_data"
    }
   ],
   "source": [
    "# 📊 Rating Distribution\n",
    "plt.figure(figsize=(8,4))\n",
    "sns.histplot(df['vote_average'], bins=20, color='skyblue')\n",
    "plt.title(\"Distribution of Vote Averages\")\n",
    "plt.xlabel(\"Vote Average\")\n",
    "plt.ylabel(\"Count\")\n",
    "plt.show()"
   ]
  },
  {
   "cell_type": "markdown",
   "id": "8a08db39",
   "metadata": {},
   "source": [
    "Observations:\n",
    "\n",
    "- The distribution is **normally shaped**, centered around 6–7.\n",
    "- There are a few perfect 10s and some extreme low scores, which may warrant further filtering or normalization.\n"
   ]
  },
  {
   "cell_type": "markdown",
   "id": "58cc75bb",
   "metadata": {},
   "source": [
    "### 📈 4.4 Popularity Score Distribution\n",
    "\n",
    "The `popularity` metric from TMDb aggregates multiple engagement signals such as:\n",
    "\n",
    "- Page views\n",
    "- Search frequency\n",
    "- Trending momentum\n",
    "- Vote count (indirectly)\n",
    "- Social activity\n",
    "\n",
    "Unlike `vote_average`, this score is **not bounded between 0 and 10** and has **no upper limit**. It’s designed as an internal relevance score that reflects visibility and attention across the platform."
   ]
  },
  {
   "cell_type": "code",
   "execution_count": 13,
   "id": "e019beb2",
   "metadata": {},
   "outputs": [
    {
     "data": {
      "image/png": "[encoded data removed]",
      "text/plain": [
       "<Figure size 800x400 with 1 Axes>"
      ]
     },
     "metadata": {},
     "output_type": "display_data"
    }
   ],
   "source": [
    "# 📊 Popularity Distribution\n",
    "plt.figure(figsize=(8,4))\n",
    "sns.histplot(df['popularity'], bins=40, color='salmon')\n",
    "plt.title(\"Distribution of Popularity Scores\")\n",
    "plt.xlabel(\"Popularity\")\n",
    "plt.ylabel(\"Count\")\n",
    "plt.show()"
   ]
  },
  {
   "cell_type": "markdown",
   "id": "86e368b5",
   "metadata": {},
   "source": [
    "Insights:\n",
    "\n",
    "- The distribution is **heavily right-skewed**, meaning the majority of movies have **very low popularity**, while only a few have exceptionally high values.\n",
    "- This is consistent with real-world dynamics — most movies receive modest attention, while a small subset (blockbusters or trending releases) dominates visibility.\n",
    "- **Important**: This skew can bias models if not handled carefully. Consider applying **log transformation** or **quantile binning** when using popularity as a feature in a recommendation model."
   ]
  },
  {
   "cell_type": "markdown",
   "id": "454f7ecc",
   "metadata": {},
   "source": [
    "**Further Exploration**:\n",
    "\n",
    "We may try to visualize it on a log scale to better inspect the right tail:"
   ]
  },
  {
   "cell_type": "code",
   "execution_count": 14,
   "id": "3d9e4af9",
   "metadata": {},
   "outputs": [
    {
     "data": {
      "image/png": "[encoded data removed]",
      "text/plain": [
       "<Figure size 800x400 with 1 Axes>"
      ]
     },
     "metadata": {},
     "output_type": "display_data"
    }
   ],
   "source": [
    "plt.figure(figsize=(8,4))\n",
    "sns.histplot(np.log1p(df['popularity']), bins=40, color='purple')\n",
    "plt.title(\"Log-Scaled Popularity Distribution\")\n",
    "plt.xlabel(\"log(Popularity + 1)\")\n",
    "plt.ylabel(\"Count\")\n",
    "plt.show()"
   ]
  },
  {
   "cell_type": "markdown",
   "id": "1b592f8b",
   "metadata": {},
   "source": [
    "### 📅 4.5 Movies Released per Year\n",
    "\n",
    "We extract the year from the `release_date` field and visualize the **volume of movies by release year**."
   ]
  },
  {
   "cell_type": "code",
   "execution_count": 15,
   "id": "577a51c2",
   "metadata": {},
   "outputs": [
    {
     "data": {
      "image/png": "[encoded data removed]",
      "text/plain": [
       "<Figure size 1200x500 with 1 Axes>"
      ]
     },
     "metadata": {},
     "output_type": "display_data"
    }
   ],
   "source": [
    "# 📅 Release Year Distribution\n",
    "plt.figure(figsize=(12,5))\n",
    "df['release_year'].value_counts().sort_index().plot(kind='bar')\n",
    "plt.title(\"Movies per Year\")\n",
    "plt.xlabel(\"Year\")\n",
    "plt.ylabel(\"Count\")\n",
    "plt.tight_layout()\n",
    "plt.show()"
   ]
  },
  {
   "cell_type": "markdown",
   "id": "2ee48595",
   "metadata": {},
   "source": [
    "**Insights**:\n",
    "\n",
    "- A sharp increase in the number of movies occurs between **1990 and 2000**, suggesting a more complete dataset for that period.\n",
    "- After the 2000s, there is a **noticeable drop** — likely** not due to decreased productio**n, but rather a **bias in the dataset’s coverage**.\n",
    "- It’s plausible that the TMDb enrichment pipeline or the original MovieLens set is **biased toward late 20th century films**, and may **underrepresent newer or obscure content.**"
   ]
  },
  {
   "cell_type": "markdown",
   "id": "e4300f2f",
   "metadata": {},
   "source": [
    "In order to have a better comprehension of the movie production per unit of time, we decided to group them by decade and visualize a new more detailed plot."
   ]
  },
  {
   "cell_type": "code",
   "execution_count": 16,
   "id": "ea681146",
   "metadata": {},
   "outputs": [
    {
     "data": {
      "image/png": "[encoded data removed]",
      "text/plain": [
       "<Figure size 1000x400 with 1 Axes>"
      ]
     },
     "metadata": {},
     "output_type": "display_data"
    }
   ],
   "source": [
    "# Create decade bins\n",
    "df['release_decade'] = (df['release_year'] // 10) * 10\n",
    "\n",
    "# Plot\n",
    "plt.figure(figsize=(10,4))\n",
    "df['release_decade'].value_counts().sort_index().plot(kind='bar', color='mediumseagreen')\n",
    "plt.title(\"Movies per Decade\")\n",
    "plt.xlabel(\"Decade\")\n",
    "plt.ylabel(\"Number of Movies\")\n",
    "plt.xticks(rotation=45)\n",
    "plt.tight_layout()\n",
    "plt.show()"
   ]
  },
  {
   "cell_type": "markdown",
   "id": "f3712c1a",
   "metadata": {},
   "source": [
    "**Interpretation**:\n",
    "\n",
    "- This view gives a clearer trend of long-term evolution in movie production.\n",
    "- It reduces visual clutter and allows for easier comparison across eras.\n",
    "- Consider combining this with metadata like **genre trends per decade** for deeper insights."
   ]
  },
  {
   "cell_type": "markdown",
   "id": "79792584",
   "metadata": {},
   "source": [
    "### 🧾 Summary Insights\n",
    "\n",
    "- ✅ Applying a logarithmic transformation to `popularity` exposed more structure in the distribution and reduced the dominance of outliers, enabling better understanding and modeling.\n",
    "- ✅ Grouping movies by `release_decade` instead of raw `release_year` eliminated visual clutter, highlighted long-term production trends, and revealed dataset coverage biases.\n",
    "\n",
    "These two preprocessing steps enhanced interpretability and should be considered for feature engineering in the modeling pipeline. Additional inspection of `vote_average` (filtered by `vote_count`) and `overview_length` may further refine insights."
   ]
  },
  {
   "cell_type": "markdown",
   "id": "e4235d8f",
   "metadata": {},
   "source": [
    "### 🏆 4.6 Top Rated / Popular Movies\n",
    "\n",
    "To further explore standout content, we highlight:\n",
    "\n",
    "- The **Top 5 highest-rated** movies based on `vote_average`\n",
    "- The **Top 5 most popular** movies based on the `popularity` score\n",
    "\n",
    "This helps identify outliers and anchor points in both distributions."
   ]
  },
  {
   "cell_type": "markdown",
   "id": "9add1a9d",
   "metadata": {},
   "source": [
    "#### 🎬 Top Rated Movies\n",
    "\n",
    "We sort by `vote_average` (bounded [0, 10]) and select the top 5 entries:"
   ]
  },
  {
   "cell_type": "code",
   "execution_count": 17,
   "id": "07c4598e",
   "metadata": {},
   "outputs": [
    {
     "name": "stdout",
     "output_type": "stream",
     "text": [
      "\n",
      "🎬 Top 5 by Rating:\n"
     ]
    },
    {
     "data": {
      "application/vnd.microsoft.datawrangler.viewer.v0+json": {
       "columns": [
        {
         "name": "index",
         "rawType": "int64",
         "type": "integer"
        },
        {
         "name": "title",
         "rawType": "object",
         "type": "string"
        },
        {
         "name": "vote_average",
         "rawType": "float64",
         "type": "float"
        }
       ],
       "ref": "8376f575-787b-47b1-8863-da4baa8ad4bb",
       "rows": [
        [
         "2844",
         "Princess Mononoke, The (Mononoke Hime) (1997)",
         "10.0"
        ],
        [
         "2457",
         "Open Your Eyes (Abre los ojos) (1997)",
         "10.0"
        ],
        [
         "2979",
         "Three Ages, The (1923)",
         "10.0"
        ],
        [
         "707",
         "Rock, The (1996)",
         "10.0"
        ],
        [
         "1296",
         "Blood & Wine (1997)",
         "10.0"
        ]
       ],
       "shape": {
        "columns": 2,
        "rows": 5
       }
      },
      "text/html": [
       "<div>\n",
       "<style scoped>\n",
       "    .dataframe tbody tr th:only-of-type {\n",
       "        vertical-align: middle;\n",
       "    }\n",
       "\n",
       "    .dataframe tbody tr th {\n",
       "        vertical-align: top;\n",
       "    }\n",
       "\n",
       "    .dataframe thead th {\n",
       "        text-align: right;\n",
       "    }\n",
       "</style>\n",
       "<table border=\"1\" class=\"dataframe\">\n",
       "  <thead>\n",
       "    <tr style=\"text-align: right;\">\n",
       "      <th></th>\n",
       "      <th>title</th>\n",
       "      <th>vote_average</th>\n",
       "    </tr>\n",
       "  </thead>\n",
       "  <tbody>\n",
       "    <tr>\n",
       "      <th>2844</th>\n",
       "      <td>Princess Mononoke, The (Mononoke Hime) (1997)</td>\n",
       "      <td>10.0</td>\n",
       "    </tr>\n",
       "    <tr>\n",
       "      <th>2457</th>\n",
       "      <td>Open Your Eyes (Abre los ojos) (1997)</td>\n",
       "      <td>10.0</td>\n",
       "    </tr>\n",
       "    <tr>\n",
       "      <th>2979</th>\n",
       "      <td>Three Ages, The (1923)</td>\n",
       "      <td>10.0</td>\n",
       "    </tr>\n",
       "    <tr>\n",
       "      <th>707</th>\n",
       "      <td>Rock, The (1996)</td>\n",
       "      <td>10.0</td>\n",
       "    </tr>\n",
       "    <tr>\n",
       "      <th>1296</th>\n",
       "      <td>Blood &amp; Wine (1997)</td>\n",
       "      <td>10.0</td>\n",
       "    </tr>\n",
       "  </tbody>\n",
       "</table>\n",
       "</div>"
      ],
      "text/plain": [
       "                                              title  vote_average\n",
       "2844  Princess Mononoke, The (Mononoke Hime) (1997)          10.0\n",
       "2457          Open Your Eyes (Abre los ojos) (1997)          10.0\n",
       "2979                         Three Ages, The (1923)          10.0\n",
       "707                                Rock, The (1996)          10.0\n",
       "1296                            Blood & Wine (1997)          10.0"
      ]
     },
     "execution_count": 17,
     "metadata": {},
     "output_type": "execute_result"
    }
   ],
   "source": [
    "# 🧾 Top Rated / Popular Movies\n",
    "print(\"\\n🎬 Top 5 by Rating:\")\n",
    "df[['title', 'vote_average']].sort_values(by='vote_average', ascending=False).head()"
   ]
  },
  {
   "cell_type": "markdown",
   "id": "e5fb4d3e",
   "metadata": {},
   "source": [
    "💡 *Note: All of them scored a perfect 10 — indicating either exceptional quality or limited ratings with strong consensus.*"
   ]
  },
  {
   "cell_type": "markdown",
   "id": "adaa27fa",
   "metadata": {},
   "source": [
    "#### 🔥 Top Popular Movies\n",
    "\n",
    "Now we sort by `popularity`, which reflects broader engagement signals:"
   ]
  },
  {
   "cell_type": "code",
   "execution_count": 18,
   "id": "396fc764",
   "metadata": {},
   "outputs": [
    {
     "name": "stdout",
     "output_type": "stream",
     "text": [
      "\n",
      "🔥 Top 5 by Popularity:\n"
     ]
    },
    {
     "data": {
      "application/vnd.microsoft.datawrangler.viewer.v0+json": {
       "columns": [
        {
         "name": "index",
         "rawType": "int64",
         "type": "integer"
        },
        {
         "name": "title",
         "rawType": "object",
         "type": "string"
        },
        {
         "name": "popularity",
         "rawType": "float64",
         "type": "float"
        }
       ],
       "ref": "2be781b3-5966-49f0-8345-8f7fee60f350",
       "rows": [
        [
         "630",
         "Mission: Impossible (1996)",
         "267.7424"
        ],
        [
         "2601",
         "Mission, The (1986)",
         "267.7424"
        ],
        [
         "2571",
         "Wood, The (1999)",
         "173.6553"
        ],
        [
         "3238",
         "Final Destination (2000)",
         "89.1441"
        ],
        [
         "354",
         "Lion King, The (1994)",
         "84.0314"
        ]
       ],
       "shape": {
        "columns": 2,
        "rows": 5
       }
      },
      "text/html": [
       "<div>\n",
       "<style scoped>\n",
       "    .dataframe tbody tr th:only-of-type {\n",
       "        vertical-align: middle;\n",
       "    }\n",
       "\n",
       "    .dataframe tbody tr th {\n",
       "        vertical-align: top;\n",
       "    }\n",
       "\n",
       "    .dataframe thead th {\n",
       "        text-align: right;\n",
       "    }\n",
       "</style>\n",
       "<table border=\"1\" class=\"dataframe\">\n",
       "  <thead>\n",
       "    <tr style=\"text-align: right;\">\n",
       "      <th></th>\n",
       "      <th>title</th>\n",
       "      <th>popularity</th>\n",
       "    </tr>\n",
       "  </thead>\n",
       "  <tbody>\n",
       "    <tr>\n",
       "      <th>630</th>\n",
       "      <td>Mission: Impossible (1996)</td>\n",
       "      <td>267.7424</td>\n",
       "    </tr>\n",
       "    <tr>\n",
       "      <th>2601</th>\n",
       "      <td>Mission, The (1986)</td>\n",
       "      <td>267.7424</td>\n",
       "    </tr>\n",
       "    <tr>\n",
       "      <th>2571</th>\n",
       "      <td>Wood, The (1999)</td>\n",
       "      <td>173.6553</td>\n",
       "    </tr>\n",
       "    <tr>\n",
       "      <th>3238</th>\n",
       "      <td>Final Destination (2000)</td>\n",
       "      <td>89.1441</td>\n",
       "    </tr>\n",
       "    <tr>\n",
       "      <th>354</th>\n",
       "      <td>Lion King, The (1994)</td>\n",
       "      <td>84.0314</td>\n",
       "    </tr>\n",
       "  </tbody>\n",
       "</table>\n",
       "</div>"
      ],
      "text/plain": [
       "                           title  popularity\n",
       "630   Mission: Impossible (1996)    267.7424\n",
       "2601         Mission, The (1986)    267.7424\n",
       "2571            Wood, The (1999)    173.6553\n",
       "3238    Final Destination (2000)     89.1441\n",
       "354        Lion King, The (1994)     84.0314"
      ]
     },
     "execution_count": 18,
     "metadata": {},
     "output_type": "execute_result"
    }
   ],
   "source": [
    "# 🏆 Top 5 by Popularity\n",
    "print(\"\\n🔥 Top 5 by Popularity:\")\n",
    "df[['title', 'popularity']].sort_values(by='popularity', ascending=False).head()"
   ]
  },
  {
   "cell_type": "markdown",
   "id": "510732c9",
   "metadata": {},
   "source": [
    "*📌 Note: Popularity is often dominated by mainstream or trending releases.*"
   ]
  },
  {
   "cell_type": "markdown",
   "id": "bbdd53de",
   "metadata": {},
   "source": [
    "## 📌 Final Notes and Export\n",
    "\n",
    "After completing our exploratory data analysis, we gained several insights:\n",
    "\n",
    "- The dataset includes a wide variety of movies, with a heavy presence of Drama and Comedy genres.\n",
    "- Popularity scores are heavily skewed, requiring transformation or normalization in downstream modeling.\n",
    "- The number of movies increased sharply in the 1990s, but the dataset underrepresents recent releases.\n",
    "- Vote averages tend to be clustered around 6–7, suggesting limited variance in rating behavior.\n",
    "\n",
    "We have engineered relevant features such as:\n",
    "\n",
    "- `release_year`\n",
    "- `n_genres`\n",
    "- `overview_length`\n",
    "\n",
    "and may engineer some others like\n",
    "\n",
    "- np.log1p(`popularity`)\n",
    "- `release_decade`\n",
    "\n",
    "These transformations enhance the modeling potential and will be carried over to the modeling pipeline."
   ]
  },
  {
   "cell_type": "code",
   "execution_count": 19,
   "id": "6f84b726",
   "metadata": {},
   "outputs": [
    {
     "name": "stdout",
     "output_type": "stream",
     "text": [
      "✅ Cleaned dataset exported.\n"
     ]
    }
   ],
   "source": [
    "\n",
    "# 💾 Save cleaned dataset (optional)\n",
    "df.to_csv(\"../data/processed/enriched_movies_clean.csv\", index=False)\n",
    "print(\"✅ Cleaned dataset exported.\")\n"
   ]
  },
  {
   "cell_type": "markdown",
   "id": "4c0a436b",
   "metadata": {},
   "source": [
    "The cleaned and feature-enhanced dataset was exported to:\n",
    "\n",
    "```bash\n",
    "/data/processed/enriched_movies_clean.csv\n",
    "```\n",
    "\n",
    "✅ Ready for modeling!"
   ]
  }
 ],
 "metadata": {
  "kernelspec": {
   "display_name": "Python (Recommendation)",
   "language": "python",
   "name": "personalized-recommender"
  },
  "language_info": {
   "codemirror_mode": {
    "name": "ipython",
    "version": 3
   },
   "file_extension": ".py",
   "mimetype": "text/x-python",
   "name": "python",
   "nbconvert_exporter": "python",
   "pygments_lexer": "ipython3",
   "version": "3.12.7"
  }
 },
 "nbformat": 4,
 "nbformat_minor": 5
}
