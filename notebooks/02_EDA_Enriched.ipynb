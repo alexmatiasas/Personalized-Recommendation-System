{
 "cells": [
  {
   "cell_type": "code",
   "execution_count": 2,
   "id": "b07ed608",
   "metadata": {},
   "outputs": [
    {
     "name": "stdout",
     "output_type": "stream",
     "text": [
      "Total películas: 3755\n",
      "Sin overview: 0\n"
     ]
    }
   ],
   "source": [
    "import pandas as pd\n",
    "df = pd.read_csv(\"../data/processed/enriched_movies.csv\")\n",
    "print(\"Total películas:\", len(df))\n",
    "print(\"Sin overview:\", df[\"overview\"].isna().sum() + (df[\"overview\"] == \"\").sum())"
   ]
  },
  {
   "cell_type": "code",
   "execution_count": null,
   "id": "94e6ac3f",
   "metadata": {},
   "outputs": [],
   "source": []
  }
 ],
 "metadata": {
  "kernelspec": {
   "display_name": "personalized-recommendation-system-AjqEhrdf-py3.12",
   "language": "python",
   "name": "python3"
  },
  "language_info": {
   "codemirror_mode": {
    "name": "ipython",
    "version": 3
   },
   "file_extension": ".py",
   "mimetype": "text/x-python",
   "name": "python",
   "nbconvert_exporter": "python",
   "pygments_lexer": "ipython3",
   "version": "3.12.7"
  }
 },
 "nbformat": 4,
 "nbformat_minor": 5
}
