{
 "cells": [
  {
   "cell_type": "markdown",
   "id": "685d3fd7",
   "metadata": {},
   "source": [
    "# 🧠 Collaborative Filtering - User-Based Version\n",
    "\n",
    "This notebook implements a user-based collaborative filtering system using the MovieLens 1M dataset. The goal is to recommend movies to a target user based on the preferences of similar users, computed via cosine similarity.\n",
    "\n",
    "## ⚙️ 1. Setup\n",
    "\n",
    "We set up the environment by importing necessary libraries and adjusting the Python path so that we can import our custom module located in the `src` directory.\n",
    "\n",
    "We choose to modify the path dynamically inside the notebook to ensure portability and avoid depending on an installed package or preconfigured environment variables (like `PYTHONPATH`)."
   ]
  },
  {
   "cell_type": "code",
   "execution_count": 1,
   "id": "8cabae67",
   "metadata": {
    "execution": {
     "iopub.execute_input": "2025-05-30T10:19:47.019000Z",
     "iopub.status.busy": "2025-05-30T10:19:47.018876Z",
     "iopub.status.idle": "2025-05-30T10:19:47.848601Z",
     "shell.execute_reply": "2025-05-30T10:19:47.848278Z",
     "shell.execute_reply.started": "2025-05-30T10:19:47.018988Z"
    }
   },
   "outputs": [],
   "source": [
    "# Add parent directory to path so we can import local modules from the 'src' folder.\n",
    "# This is necessary for notebook reproducibility when not using an installed package.\n",
    "# Alternatively, setting PYTHONPATH or using a package structure would eliminate the need,\n",
    "# but this approach keeps things simple and portable for this project.\n",
    "import sys\n",
    "sys.path.append(\"..\")\n",
    "\n",
    "import pandas as pd\n",
    "\n",
    "from src.collaborative_filtering import CollaborativeFilteringRecommender"
   ]
  },
  {
   "cell_type": "markdown",
   "id": "0985e3dc",
   "metadata": {},
   "source": [
    "## 📥 2. Load Ratings Data\n",
    "\n",
    "We load the MovieLens 1M ratings dataset, which contains over 1 million user ratings for different movies. This data will be used to build the user-item interaction matrix.\n",
    "\n",
    "- Each row in the dataset represents a rating a user gave to a movie.\n",
    "- This is the foundation for inferring user similarity and recommendations."
   ]
  },
  {
   "cell_type": "code",
   "execution_count": 2,
   "id": "9e76924c-0f29-49a5-bd27-a07729e2a787",
   "metadata": {
    "execution": {
     "iopub.execute_input": "2025-05-30T10:19:47.857414Z",
     "iopub.status.busy": "2025-05-30T10:19:47.857137Z",
     "iopub.status.idle": "2025-05-30T10:19:48.042187Z",
     "shell.execute_reply": "2025-05-30T10:19:48.041701Z",
     "shell.execute_reply.started": "2025-05-30T10:19:47.857397Z"
    }
   },
   "outputs": [
    {
     "name": "stdout",
     "output_type": "stream",
     "text": [
      "✅ Loaded 988380 ratings (filtered from 1000209) based on enriched metadata.\n"
     ]
    }
   ],
   "source": [
    "recommender = CollaborativeFilteringRecommender(\"../data/ml-1m/ratings.csv\", \"../data/processed/enriched_movies.csv\")\n",
    "recommender.load_data()"
   ]
  },
  {
   "cell_type": "markdown",
   "id": "2819b2a0-e31d-4f29-9c66-31b0cc101102",
   "metadata": {},
   "source": [
    "as a final revission we assert that we'll use movies from the enriched dataset, so we can show additional metadata and reduce the original dataset a bit."
   ]
  },
  {
   "cell_type": "markdown",
   "id": "17c6b1d4",
   "metadata": {},
   "source": [
    "## 🧱 3. Build User-Item Matrix\n",
    "\n",
    "We pivot the ratings data to construct a matrix where:\n",
    "\n",
    "- Rows represent users\n",
    "- Columns represent movies\n",
    "- Cells contain the rating given by a user to a movie (0 if not rated)"
   ]
  },
  {
   "cell_type": "code",
   "execution_count": 3,
   "id": "416217bd",
   "metadata": {
    "execution": {
     "iopub.execute_input": "2025-05-30T10:19:48.052984Z",
     "iopub.status.busy": "2025-05-30T10:19:48.052755Z",
     "iopub.status.idle": "2025-05-30T10:19:48.529699Z",
     "shell.execute_reply": "2025-05-30T10:19:48.529211Z",
     "shell.execute_reply.started": "2025-05-30T10:19:48.052970Z"
    }
   },
   "outputs": [
    {
     "name": "stdout",
     "output_type": "stream",
     "text": [
      "✅ Built user-item matrix with shape (6040, 3590)\n"
     ]
    }
   ],
   "source": [
    "recommender.build_user_item_matrix()"
   ]
  },
  {
   "cell_type": "markdown",
   "id": "67bc58ff",
   "metadata": {},
   "source": [
    "We create a disperssion matrix of size (${n}_{users}$, ${m}_{movies}$) where each celll represents the rating that a user gave to a movie. Empty cells are treated as 0 (not views)."
   ]
  },
  {
   "cell_type": "markdown",
   "id": "4fa1ba80",
   "metadata": {},
   "source": [
    "## 🧮 4. Compute User-User Similarity\n",
    "\n",
    "Using the sparse user-item matrix, we calculate cosine similarity between all pairs of users.\n",
    "\n",
    "- Cosine similarity measures the angle between two rating vectors.\n",
    "- A value close to 1 means the users have rated movies in a similar pattern.\n",
    "- This results in a similarity matrix of shape `(n_users, n_users)`.\n",
    "\n",
    "We will use this similarity matrix to find the most similar users for a given user."
   ]
  },
  {
   "cell_type": "code",
   "execution_count": 4,
   "id": "b578c288",
   "metadata": {
    "execution": {
     "iopub.execute_input": "2025-05-30T10:19:48.548086Z",
     "iopub.status.busy": "2025-05-30T10:19:48.547847Z",
     "iopub.status.idle": "2025-05-30T10:19:50.430009Z",
     "shell.execute_reply": "2025-05-30T10:19:50.429631Z",
     "shell.execute_reply.started": "2025-05-30T10:19:48.548072Z"
    }
   },
   "outputs": [
    {
     "name": "stdout",
     "output_type": "stream",
     "text": [
      "✅ Computed user-user similarity matrix\n"
     ]
    }
   ],
   "source": [
    "recommender.compute_user_similarity()"
   ]
  },
  {
   "cell_type": "markdown",
   "id": "1a96388a",
   "metadata": {},
   "source": [
    "## 🔍 5. Inspect Similar Users\n",
    "\n",
    "We select a target user (in this case, user ID = 1) and retrieve their top N (5) most similar users.\n",
    "\n",
    "- This is done by sorting the similarity scores in descending order.\n",
    "- We exclude the user themselves from the ranking.\n",
    "- These similar users will serve as the basis for generating recommendations."
   ]
  },
  {
   "cell_type": "code",
   "execution_count": 5,
   "id": "66ebbf15",
   "metadata": {
    "execution": {
     "iopub.execute_input": "2025-05-30T10:19:50.438583Z",
     "iopub.status.busy": "2025-05-30T10:19:50.438418Z",
     "iopub.status.idle": "2025-05-30T10:19:50.443890Z",
     "shell.execute_reply": "2025-05-30T10:19:50.443589Z",
     "shell.execute_reply.started": "2025-05-30T10:19:50.438569Z"
    }
   },
   "outputs": [
    {
     "name": "stdout",
     "output_type": "stream",
     "text": [
      "🔍 Top 5 similar users to user 1: [5343, 5190, 1481, 1283, 5705]\n"
     ]
    },
    {
     "data": {
      "text/plain": [
       "[5343, 5190, 1481, 1283, 5705]"
      ]
     },
     "execution_count": 5,
     "metadata": {},
     "output_type": "execute_result"
    }
   ],
   "source": [
    "recommender.get_user_recommendations(user_id=1, top_n=5)"
   ]
  },
  {
   "cell_type": "markdown",
   "id": "009abc19-469e-4586-ab94-df0107cd4289",
   "metadata": {
    "execution": {
     "iopub.execute_input": "2025-05-30T05:13:55.247884Z",
     "iopub.status.busy": "2025-05-30T05:13:55.247408Z",
     "iopub.status.idle": "2025-05-30T05:13:55.256186Z",
     "shell.execute_reply": "2025-05-30T05:13:55.255158Z",
     "shell.execute_reply.started": "2025-05-30T05:13:55.247854Z"
    }
   },
   "source": [
    "## 🎯 6. Recommend Movies\n",
    "\n",
    "Once we have computed the user-user similarity matrix and identified similar users, we want to recommend movies that those users have rated highly **but the target user hasn’t seen yet**.\n",
    "\n",
    "This is the final step in the collaborative filtering process:\n",
    "\n",
    "- We call `recommend_movies_for_user()`, which:\n",
    "  - Uses the cosine similarity matrix to find similar users.\n",
    "  - Aggregates their ratings (weighted by similarity scores).\n",
    "  - Filters out the movies the target user has already rated.\n",
    "  - Returns the top-N highest scoring movies.\n",
    "- We then **load the enriched movie dataset** to retrieve metadata (title, genres, etc.) for the recommended movie IDs.\n",
    "- Finally, we **display** the recommended movie titles and genres.\n"
   ]
  },
  {
   "cell_type": "code",
   "execution_count": 6,
   "id": "000613ba-ff52-4e42-90d4-3cd2ba3df639",
   "metadata": {
    "execution": {
     "iopub.execute_input": "2025-05-30T10:19:50.452251Z",
     "iopub.status.busy": "2025-05-30T10:19:50.452130Z",
     "iopub.status.idle": "2025-05-30T10:19:50.506523Z",
     "shell.execute_reply": "2025-05-30T10:19:50.506198Z",
     "shell.execute_reply.started": "2025-05-30T10:19:50.452236Z"
    }
   },
   "outputs": [
    {
     "name": "stdout",
     "output_type": "stream",
     "text": [
      "🎯 Recommended movies for user 1: [2858, 1196, 1198, 593, 1210]\n",
      "🎬 Recommended Movies:\n",
      "      movieId                                              title  \\\n",
      "579       593                   Silence of the Lambs, The (1991)   \n",
      "1148     1196  Star Wars: Episode V - The Empire Strikes Back...   \n",
      "1150     1198                     Raiders of the Lost Ark (1981)   \n",
      "1162     1210  Star Wars: Episode VI - Return of the Jedi (1983)   \n",
      "2708     2858                             American Beauty (1999)   \n",
      "\n",
      "                                                 genres  \n",
      "579                               ['Drama', 'Thriller']  \n",
      "1148  ['Action', 'Adventure', 'Drama', 'Sci-Fi', 'War']  \n",
      "1150                            ['Action', 'Adventure']  \n",
      "1162  ['Action', 'Adventure', 'Romance', 'Sci-Fi', '...  \n",
      "2708                                ['Comedy', 'Drama']  \n"
     ]
    }
   ],
   "source": [
    "# Load enriched dataframe\n",
    "enriched_df = pd.read_csv(recommender.enriched_movies_path)\n",
    "\n",
    "# recommended IDs\n",
    "recommended_ids = recommender.recommend_movies_for_user(user_id=1, top_n=5)\n",
    "\n",
    "# Filtering with those IDs\n",
    "recommended_movies = enriched_df[enriched_df[\"movieId\"].isin(recommended_ids)]\n",
    "\n",
    "# Show result\n",
    "print(\"🎬 Recommended Movies:\")\n",
    "print(recommended_movies[[\"movieId\", \"title\", \"genres\"]])"
   ]
  },
  {
   "cell_type": "markdown",
   "id": "25182468-1d9c-40a4-bbe1-665a5bd9d876",
   "metadata": {},
   "source": [
    "📦 This function is defined in `src/collaborative_filtering.py` as `recommend_movies_for_user`.\n",
    "\n",
    "🔎 We only display recommended movies that also exist in the enriched dataset, ensuring we can show genres and titles."
   ]
  },
  {
   "cell_type": "markdown",
   "id": "97af5d49-f063-465b-a17a-95b492988829",
   "metadata": {},
   "source": [
    "### ✅ Output\n",
    "\n",
    "We display the final recommendations for `user_id = 1`, showing which movies the user might enjoy next based on similar users' preferences."
   ]
  }
 ],
 "metadata": {
  "jpcodetoc-autonumbering": false,
  "jpcodetoc-showcode": true,
  "jpcodetoc-showmarkdowntxt": false,
  "kernelspec": {
   "display_name": "Python (Recommendation)",
   "language": "python",
   "name": "personalized-recommender"
  },
  "language_info": {
   "codemirror_mode": {
    "name": "ipython",
    "version": 3
   },
   "file_extension": ".py",
   "mimetype": "text/x-python",
   "name": "python",
   "nbconvert_exporter": "python",
   "pygments_lexer": "ipython3",
   "version": "3.12.7"
  }
 },
 "nbformat": 4,
 "nbformat_minor": 5
}
